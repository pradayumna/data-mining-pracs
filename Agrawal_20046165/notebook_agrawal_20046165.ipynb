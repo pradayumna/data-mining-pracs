{
 "cells": [
  {
   "cell_type": "markdown",
   "metadata": {},
   "source": [
    "## Importing required Libraries"
   ]
  },
  {
   "cell_type": "code",
   "execution_count": 1,
   "metadata": {},
   "outputs": [],
   "source": [
    "import numpy as np\n",
    "import pandas as pd\n",
    "import seaborn as sns\n",
    "import matplotlib.pyplot as plt\n",
    "import sqlite3\n",
    "import warnings"
   ]
  },
  {
   "cell_type": "markdown",
   "metadata": {},
   "source": [
    "## Loading Data"
   ]
  },
  {
   "cell_type": "code",
   "execution_count": 2,
   "metadata": {},
   "outputs": [],
   "source": [
    "con = sqlite3.connect(\"Assignment2021.sqlite\") #Assuming that the file is in root folder. \n",
    "df = pd.read_sql_query(\"SELECT * from data\", con) #data is saved in df dataframe"
   ]
  },
  {
   "cell_type": "markdown",
   "metadata": {},
   "source": [
    "## Changing Display Settings for better View"
   ]
  },
  {
   "cell_type": "code",
   "execution_count": 3,
   "metadata": {},
   "outputs": [],
   "source": [
    "warnings.filterwarnings('ignore')\n",
    "pd.options.display.max_columns = 50  # It would allow us to look at all columns at once\n",
    "pd.options.display.max_rows = 200\n",
    "np.random.seed(31415)"
   ]
  },
  {
   "cell_type": "markdown",
   "metadata": {},
   "source": [
    "# Data Exploration"
   ]
  },
  {
   "cell_type": "markdown",
   "metadata": {},
   "source": [
    "First, we will look at the shape of data frame. After that, we will look at the information about dimensions. "
   ]
  },
  {
   "cell_type": "code",
   "execution_count": 4,
   "metadata": {},
   "outputs": [
    {
     "name": "stdout",
     "output_type": "stream",
     "text": [
      "The shape of dataframe is (1200, 32)\n"
     ]
    }
   ],
   "source": [
    "#Printing Shape of Dataframe \n",
    "\n",
    "print(f\"The shape of dataframe is {df.shape}\")"
   ]
  },
  {
   "cell_type": "markdown",
   "metadata": {},
   "source": [
    "So, the dataframe has 1200 rows and 32 dimensions. Now, we will look at datatypes of all the dimensions"
   ]
  },
  {
   "cell_type": "code",
   "execution_count": 6,
   "metadata": {},
   "outputs": [
    {
     "name": "stdout",
     "output_type": "stream",
     "text": [
      "<class 'pandas.core.frame.DataFrame'>\n",
      "RangeIndex: 1200 entries, 0 to 1199\n",
      "Data columns (total 32 columns):\n",
      " #   Column  Non-Null Count  Dtype  \n",
      "---  ------  --------------  -----  \n",
      " 0   index   1200 non-null   int64  \n",
      " 1   Att00   1191 non-null   float64\n",
      " 2   Att01   1200 non-null   object \n",
      " 3   Att02   1200 non-null   int64  \n",
      " 4   Att03   1200 non-null   float64\n",
      " 5   Att04   1200 non-null   float64\n",
      " 6   Att05   1200 non-null   float64\n",
      " 7   Att06   1200 non-null   int64  \n",
      " 8   Att07   1200 non-null   float64\n",
      " 9   Att08   1200 non-null   object \n",
      " 10  Att09   619 non-null    float64\n",
      " 11  Att10   1200 non-null   float64\n",
      " 12  Att11   1200 non-null   float64\n",
      " 13  Att12   1200 non-null   float64\n",
      " 14  Att13   1200 non-null   float64\n",
      " 15  Att14   1200 non-null   float64\n",
      " 16  Att15   1200 non-null   float64\n",
      " 17  Att16   1200 non-null   float64\n",
      " 18  Att17   1200 non-null   float64\n",
      " 19  Att18   1200 non-null   float64\n",
      " 20  Att19   1200 non-null   float64\n",
      " 21  Att20   1200 non-null   float64\n",
      " 22  Att21   1200 non-null   int64  \n",
      " 23  Att22   1200 non-null   int64  \n",
      " 24  Att23   1200 non-null   int64  \n",
      " 25  Att24   1200 non-null   float64\n",
      " 26  Att25   1200 non-null   float64\n",
      " 27  Att26   1200 non-null   float64\n",
      " 28  Att27   1200 non-null   float64\n",
      " 29  Att28   1200 non-null   float64\n",
      " 30  Att29   1200 non-null   object \n",
      " 31  class   1000 non-null   float64\n",
      "dtypes: float64(23), int64(6), object(3)\n",
      "memory usage: 300.1+ KB\n"
     ]
    }
   ],
   "source": [
    "#Printing information about dataframe dimensions \n",
    "df.info()"
   ]
  },
  {
   "cell_type": "markdown",
   "metadata": {},
   "source": [
    "#### Observations from the information on dimensions \n",
    "\n",
    "1. 6 dimensions are of integer datatype \n",
    "2. 3 dimensions are of object datatype\n",
    "3. Remaining 23 dimensions are of float datatype\n",
    "4. Att00 is missing 9 observations \n",
    "5. Att09 is missing 581 observations\n",
    "\n",
    "### Now we will explore our dataframe further"
   ]
  },
  {
   "cell_type": "code",
   "execution_count": 7,
   "metadata": {},
   "outputs": [
    {
     "data": {
      "text/html": [
       "<div>\n",
       "<style scoped>\n",
       "    .dataframe tbody tr th:only-of-type {\n",
       "        vertical-align: middle;\n",
       "    }\n",
       "\n",
       "    .dataframe tbody tr th {\n",
       "        vertical-align: top;\n",
       "    }\n",
       "\n",
       "    .dataframe thead th {\n",
       "        text-align: right;\n",
       "    }\n",
       "</style>\n",
       "<table border=\"1\" class=\"dataframe\">\n",
       "  <thead>\n",
       "    <tr style=\"text-align: right;\">\n",
       "      <th></th>\n",
       "      <th>index</th>\n",
       "      <th>Att00</th>\n",
       "      <th>Att01</th>\n",
       "      <th>Att02</th>\n",
       "      <th>Att03</th>\n",
       "      <th>Att04</th>\n",
       "      <th>Att05</th>\n",
       "      <th>Att06</th>\n",
       "      <th>Att07</th>\n",
       "      <th>Att08</th>\n",
       "      <th>Att09</th>\n",
       "      <th>Att10</th>\n",
       "      <th>Att11</th>\n",
       "      <th>Att12</th>\n",
       "      <th>Att13</th>\n",
       "      <th>Att14</th>\n",
       "      <th>Att15</th>\n",
       "      <th>Att16</th>\n",
       "      <th>Att17</th>\n",
       "      <th>Att18</th>\n",
       "      <th>Att19</th>\n",
       "      <th>Att20</th>\n",
       "      <th>Att21</th>\n",
       "      <th>Att22</th>\n",
       "      <th>Att23</th>\n",
       "      <th>Att24</th>\n",
       "      <th>Att25</th>\n",
       "      <th>Att26</th>\n",
       "      <th>Att27</th>\n",
       "      <th>Att28</th>\n",
       "      <th>Att29</th>\n",
       "      <th>class</th>\n",
       "    </tr>\n",
       "  </thead>\n",
       "  <tbody>\n",
       "    <tr>\n",
       "      <th>count</th>\n",
       "      <td>1200.000000</td>\n",
       "      <td>1191.000000</td>\n",
       "      <td>1200</td>\n",
       "      <td>1200.000000</td>\n",
       "      <td>1200.000000</td>\n",
       "      <td>1200.000000</td>\n",
       "      <td>1200.000000</td>\n",
       "      <td>1200.000000</td>\n",
       "      <td>1200.000000</td>\n",
       "      <td>1200</td>\n",
       "      <td>619.000000</td>\n",
       "      <td>1200.000000</td>\n",
       "      <td>1200.000000</td>\n",
       "      <td>1200.000000</td>\n",
       "      <td>1200.000000</td>\n",
       "      <td>1200.000000</td>\n",
       "      <td>1200.000000</td>\n",
       "      <td>1200.000000</td>\n",
       "      <td>1200.000000</td>\n",
       "      <td>1200.000000</td>\n",
       "      <td>1200.000000</td>\n",
       "      <td>1200.000000</td>\n",
       "      <td>1200.000000</td>\n",
       "      <td>1200.000000</td>\n",
       "      <td>1200.000000</td>\n",
       "      <td>1200.000000</td>\n",
       "      <td>1200.000000</td>\n",
       "      <td>1200.000000</td>\n",
       "      <td>1200.000000</td>\n",
       "      <td>1200.000000</td>\n",
       "      <td>1200</td>\n",
       "      <td>1000.000000</td>\n",
       "    </tr>\n",
       "    <tr>\n",
       "      <th>unique</th>\n",
       "      <td>NaN</td>\n",
       "      <td>NaN</td>\n",
       "      <td>10</td>\n",
       "      <td>NaN</td>\n",
       "      <td>NaN</td>\n",
       "      <td>NaN</td>\n",
       "      <td>NaN</td>\n",
       "      <td>NaN</td>\n",
       "      <td>NaN</td>\n",
       "      <td>3</td>\n",
       "      <td>NaN</td>\n",
       "      <td>NaN</td>\n",
       "      <td>NaN</td>\n",
       "      <td>NaN</td>\n",
       "      <td>NaN</td>\n",
       "      <td>NaN</td>\n",
       "      <td>NaN</td>\n",
       "      <td>NaN</td>\n",
       "      <td>NaN</td>\n",
       "      <td>NaN</td>\n",
       "      <td>NaN</td>\n",
       "      <td>NaN</td>\n",
       "      <td>NaN</td>\n",
       "      <td>NaN</td>\n",
       "      <td>NaN</td>\n",
       "      <td>NaN</td>\n",
       "      <td>NaN</td>\n",
       "      <td>NaN</td>\n",
       "      <td>NaN</td>\n",
       "      <td>NaN</td>\n",
       "      <td>7</td>\n",
       "      <td>NaN</td>\n",
       "    </tr>\n",
       "    <tr>\n",
       "      <th>top</th>\n",
       "      <td>NaN</td>\n",
       "      <td>NaN</td>\n",
       "      <td>LWYW</td>\n",
       "      <td>NaN</td>\n",
       "      <td>NaN</td>\n",
       "      <td>NaN</td>\n",
       "      <td>NaN</td>\n",
       "      <td>NaN</td>\n",
       "      <td>NaN</td>\n",
       "      <td>YIFL</td>\n",
       "      <td>NaN</td>\n",
       "      <td>NaN</td>\n",
       "      <td>NaN</td>\n",
       "      <td>NaN</td>\n",
       "      <td>NaN</td>\n",
       "      <td>NaN</td>\n",
       "      <td>NaN</td>\n",
       "      <td>NaN</td>\n",
       "      <td>NaN</td>\n",
       "      <td>NaN</td>\n",
       "      <td>NaN</td>\n",
       "      <td>NaN</td>\n",
       "      <td>NaN</td>\n",
       "      <td>NaN</td>\n",
       "      <td>NaN</td>\n",
       "      <td>NaN</td>\n",
       "      <td>NaN</td>\n",
       "      <td>NaN</td>\n",
       "      <td>NaN</td>\n",
       "      <td>NaN</td>\n",
       "      <td>OQDJ</td>\n",
       "      <td>NaN</td>\n",
       "    </tr>\n",
       "    <tr>\n",
       "      <th>freq</th>\n",
       "      <td>NaN</td>\n",
       "      <td>NaN</td>\n",
       "      <td>318</td>\n",
       "      <td>NaN</td>\n",
       "      <td>NaN</td>\n",
       "      <td>NaN</td>\n",
       "      <td>NaN</td>\n",
       "      <td>NaN</td>\n",
       "      <td>NaN</td>\n",
       "      <td>799</td>\n",
       "      <td>NaN</td>\n",
       "      <td>NaN</td>\n",
       "      <td>NaN</td>\n",
       "      <td>NaN</td>\n",
       "      <td>NaN</td>\n",
       "      <td>NaN</td>\n",
       "      <td>NaN</td>\n",
       "      <td>NaN</td>\n",
       "      <td>NaN</td>\n",
       "      <td>NaN</td>\n",
       "      <td>NaN</td>\n",
       "      <td>NaN</td>\n",
       "      <td>NaN</td>\n",
       "      <td>NaN</td>\n",
       "      <td>NaN</td>\n",
       "      <td>NaN</td>\n",
       "      <td>NaN</td>\n",
       "      <td>NaN</td>\n",
       "      <td>NaN</td>\n",
       "      <td>NaN</td>\n",
       "      <td>429</td>\n",
       "      <td>NaN</td>\n",
       "    </tr>\n",
       "    <tr>\n",
       "      <th>mean</th>\n",
       "      <td>599.500000</td>\n",
       "      <td>1.606569</td>\n",
       "      <td>NaN</td>\n",
       "      <td>-12175.998333</td>\n",
       "      <td>0.639387</td>\n",
       "      <td>1.772553</td>\n",
       "      <td>-79.439103</td>\n",
       "      <td>-122.075000</td>\n",
       "      <td>-42.089354</td>\n",
       "      <td>NaN</td>\n",
       "      <td>0.057382</td>\n",
       "      <td>62.063112</td>\n",
       "      <td>6.314273</td>\n",
       "      <td>-0.436393</td>\n",
       "      <td>7.430563</td>\n",
       "      <td>0.336955</td>\n",
       "      <td>1.991142</td>\n",
       "      <td>-33.929722</td>\n",
       "      <td>0.475639</td>\n",
       "      <td>3.129096</td>\n",
       "      <td>0.725818</td>\n",
       "      <td>4.614506</td>\n",
       "      <td>0.488333</td>\n",
       "      <td>-368.534167</td>\n",
       "      <td>0.515833</td>\n",
       "      <td>1.518331</td>\n",
       "      <td>2.382607</td>\n",
       "      <td>0.131220</td>\n",
       "      <td>21.821867</td>\n",
       "      <td>-0.548260</td>\n",
       "      <td>NaN</td>\n",
       "      <td>1.297000</td>\n",
       "    </tr>\n",
       "    <tr>\n",
       "      <th>std</th>\n",
       "      <td>346.554469</td>\n",
       "      <td>3.434696</td>\n",
       "      <td>NaN</td>\n",
       "      <td>47228.950295</td>\n",
       "      <td>2.574271</td>\n",
       "      <td>15.938925</td>\n",
       "      <td>173.087972</td>\n",
       "      <td>5354.165561</td>\n",
       "      <td>91.707493</td>\n",
       "      <td>NaN</td>\n",
       "      <td>3.631853</td>\n",
       "      <td>132.217122</td>\n",
       "      <td>56.778400</td>\n",
       "      <td>4.885329</td>\n",
       "      <td>4.295404</td>\n",
       "      <td>37.226568</td>\n",
       "      <td>4.865747</td>\n",
       "      <td>195.973802</td>\n",
       "      <td>20.247367</td>\n",
       "      <td>12.598228</td>\n",
       "      <td>10.850167</td>\n",
       "      <td>2.667519</td>\n",
       "      <td>0.500072</td>\n",
       "      <td>2584.726635</td>\n",
       "      <td>0.499958</td>\n",
       "      <td>0.877706</td>\n",
       "      <td>9.675472</td>\n",
       "      <td>3.202912</td>\n",
       "      <td>68.809709</td>\n",
       "      <td>3.844977</td>\n",
       "      <td>NaN</td>\n",
       "      <td>0.781922</td>\n",
       "    </tr>\n",
       "    <tr>\n",
       "      <th>min</th>\n",
       "      <td>0.000000</td>\n",
       "      <td>-12.272134</td>\n",
       "      <td>NaN</td>\n",
       "      <td>-161331.000000</td>\n",
       "      <td>-5.882087</td>\n",
       "      <td>-61.457430</td>\n",
       "      <td>-666.679447</td>\n",
       "      <td>-20126.000000</td>\n",
       "      <td>-353.227898</td>\n",
       "      <td>NaN</td>\n",
       "      <td>-10.758332</td>\n",
       "      <td>-473.289615</td>\n",
       "      <td>-218.926601</td>\n",
       "      <td>-14.513627</td>\n",
       "      <td>0.000000</td>\n",
       "      <td>-132.864661</td>\n",
       "      <td>-11.583944</td>\n",
       "      <td>-882.310873</td>\n",
       "      <td>-62.250319</td>\n",
       "      <td>-28.786351</td>\n",
       "      <td>-34.198287</td>\n",
       "      <td>0.000000</td>\n",
       "      <td>0.000000</td>\n",
       "      <td>-6940.000000</td>\n",
       "      <td>0.000000</td>\n",
       "      <td>0.000000</td>\n",
       "      <td>-28.112520</td>\n",
       "      <td>-10.761918</td>\n",
       "      <td>-196.774837</td>\n",
       "      <td>-10.322514</td>\n",
       "      <td>NaN</td>\n",
       "      <td>0.000000</td>\n",
       "    </tr>\n",
       "    <tr>\n",
       "      <th>25%</th>\n",
       "      <td>299.750000</td>\n",
       "      <td>-0.661297</td>\n",
       "      <td>NaN</td>\n",
       "      <td>-41743.000000</td>\n",
       "      <td>-1.084786</td>\n",
       "      <td>-8.719102</td>\n",
       "      <td>-200.981336</td>\n",
       "      <td>-3518.750000</td>\n",
       "      <td>-106.486281</td>\n",
       "      <td>NaN</td>\n",
       "      <td>-2.540842</td>\n",
       "      <td>-25.468032</td>\n",
       "      <td>-31.059603</td>\n",
       "      <td>-3.924800</td>\n",
       "      <td>3.715282</td>\n",
       "      <td>-25.511729</td>\n",
       "      <td>-1.346314</td>\n",
       "      <td>-160.576552</td>\n",
       "      <td>-12.827253</td>\n",
       "      <td>-5.308835</td>\n",
       "      <td>-6.843140</td>\n",
       "      <td>2.307253</td>\n",
       "      <td>0.000000</td>\n",
       "      <td>-2158.750000</td>\n",
       "      <td>0.000000</td>\n",
       "      <td>0.759166</td>\n",
       "      <td>-3.597412</td>\n",
       "      <td>-2.040810</td>\n",
       "      <td>-22.754496</td>\n",
       "      <td>-3.211332</td>\n",
       "      <td>NaN</td>\n",
       "      <td>1.000000</td>\n",
       "    </tr>\n",
       "    <tr>\n",
       "      <th>50%</th>\n",
       "      <td>599.500000</td>\n",
       "      <td>1.663014</td>\n",
       "      <td>NaN</td>\n",
       "      <td>-11304.500000</td>\n",
       "      <td>0.558202</td>\n",
       "      <td>2.463898</td>\n",
       "      <td>-87.374565</td>\n",
       "      <td>-243.500000</td>\n",
       "      <td>-46.293813</td>\n",
       "      <td>NaN</td>\n",
       "      <td>0.104200</td>\n",
       "      <td>63.534198</td>\n",
       "      <td>8.777016</td>\n",
       "      <td>-0.216777</td>\n",
       "      <td>7.430563</td>\n",
       "      <td>-0.412360</td>\n",
       "      <td>2.152275</td>\n",
       "      <td>-41.922157</td>\n",
       "      <td>-0.075582</td>\n",
       "      <td>2.731787</td>\n",
       "      <td>0.794882</td>\n",
       "      <td>4.614506</td>\n",
       "      <td>0.000000</td>\n",
       "      <td>-529.500000</td>\n",
       "      <td>1.000000</td>\n",
       "      <td>1.518331</td>\n",
       "      <td>2.555237</td>\n",
       "      <td>0.114347</td>\n",
       "      <td>22.767702</td>\n",
       "      <td>-0.788438</td>\n",
       "      <td>NaN</td>\n",
       "      <td>1.000000</td>\n",
       "    </tr>\n",
       "    <tr>\n",
       "      <th>75%</th>\n",
       "      <td>899.250000</td>\n",
       "      <td>3.895994</td>\n",
       "      <td>NaN</td>\n",
       "      <td>16961.750000</td>\n",
       "      <td>2.379273</td>\n",
       "      <td>12.943518</td>\n",
       "      <td>32.744471</td>\n",
       "      <td>3385.000000</td>\n",
       "      <td>17.349058</td>\n",
       "      <td>NaN</td>\n",
       "      <td>2.564323</td>\n",
       "      <td>150.078262</td>\n",
       "      <td>46.108019</td>\n",
       "      <td>2.975106</td>\n",
       "      <td>11.145845</td>\n",
       "      <td>24.997660</td>\n",
       "      <td>5.374269</td>\n",
       "      <td>89.125093</td>\n",
       "      <td>14.283162</td>\n",
       "      <td>11.643926</td>\n",
       "      <td>8.116634</td>\n",
       "      <td>6.921758</td>\n",
       "      <td>1.000000</td>\n",
       "      <td>1051.000000</td>\n",
       "      <td>1.000000</td>\n",
       "      <td>2.277497</td>\n",
       "      <td>8.763264</td>\n",
       "      <td>2.234868</td>\n",
       "      <td>68.752101</td>\n",
       "      <td>1.563436</td>\n",
       "      <td>NaN</td>\n",
       "      <td>2.000000</td>\n",
       "    </tr>\n",
       "    <tr>\n",
       "      <th>max</th>\n",
       "      <td>1199.000000</td>\n",
       "      <td>13.341242</td>\n",
       "      <td>NaN</td>\n",
       "      <td>160525.000000</td>\n",
       "      <td>10.583591</td>\n",
       "      <td>51.778870</td>\n",
       "      <td>488.787908</td>\n",
       "      <td>18463.000000</td>\n",
       "      <td>258.975324</td>\n",
       "      <td>NaN</td>\n",
       "      <td>10.540950</td>\n",
       "      <td>514.521051</td>\n",
       "      <td>184.449171</td>\n",
       "      <td>15.945891</td>\n",
       "      <td>14.861126</td>\n",
       "      <td>128.737782</td>\n",
       "      <td>16.280852</td>\n",
       "      <td>816.556460</td>\n",
       "      <td>71.154463</td>\n",
       "      <td>51.795047</td>\n",
       "      <td>40.068146</td>\n",
       "      <td>9.229011</td>\n",
       "      <td>1.000000</td>\n",
       "      <td>9200.000000</td>\n",
       "      <td>1.000000</td>\n",
       "      <td>3.036663</td>\n",
       "      <td>32.266739</td>\n",
       "      <td>10.060685</td>\n",
       "      <td>272.678927</td>\n",
       "      <td>13.683698</td>\n",
       "      <td>NaN</td>\n",
       "      <td>2.000000</td>\n",
       "    </tr>\n",
       "  </tbody>\n",
       "</table>\n",
       "</div>"
      ],
      "text/plain": [
       "              index        Att00 Att01          Att02        Att03  \\\n",
       "count   1200.000000  1191.000000  1200    1200.000000  1200.000000   \n",
       "unique          NaN          NaN    10            NaN          NaN   \n",
       "top             NaN          NaN  LWYW            NaN          NaN   \n",
       "freq            NaN          NaN   318            NaN          NaN   \n",
       "mean     599.500000     1.606569   NaN  -12175.998333     0.639387   \n",
       "std      346.554469     3.434696   NaN   47228.950295     2.574271   \n",
       "min        0.000000   -12.272134   NaN -161331.000000    -5.882087   \n",
       "25%      299.750000    -0.661297   NaN  -41743.000000    -1.084786   \n",
       "50%      599.500000     1.663014   NaN  -11304.500000     0.558202   \n",
       "75%      899.250000     3.895994   NaN   16961.750000     2.379273   \n",
       "max     1199.000000    13.341242   NaN  160525.000000    10.583591   \n",
       "\n",
       "              Att04        Att05         Att06        Att07 Att08       Att09  \\\n",
       "count   1200.000000  1200.000000   1200.000000  1200.000000  1200  619.000000   \n",
       "unique          NaN          NaN           NaN          NaN     3         NaN   \n",
       "top             NaN          NaN           NaN          NaN  YIFL         NaN   \n",
       "freq            NaN          NaN           NaN          NaN   799         NaN   \n",
       "mean       1.772553   -79.439103   -122.075000   -42.089354   NaN    0.057382   \n",
       "std       15.938925   173.087972   5354.165561    91.707493   NaN    3.631853   \n",
       "min      -61.457430  -666.679447 -20126.000000  -353.227898   NaN  -10.758332   \n",
       "25%       -8.719102  -200.981336  -3518.750000  -106.486281   NaN   -2.540842   \n",
       "50%        2.463898   -87.374565   -243.500000   -46.293813   NaN    0.104200   \n",
       "75%       12.943518    32.744471   3385.000000    17.349058   NaN    2.564323   \n",
       "max       51.778870   488.787908  18463.000000   258.975324   NaN   10.540950   \n",
       "\n",
       "              Att10        Att11        Att12        Att13        Att14  \\\n",
       "count   1200.000000  1200.000000  1200.000000  1200.000000  1200.000000   \n",
       "unique          NaN          NaN          NaN          NaN          NaN   \n",
       "top             NaN          NaN          NaN          NaN          NaN   \n",
       "freq            NaN          NaN          NaN          NaN          NaN   \n",
       "mean      62.063112     6.314273    -0.436393     7.430563     0.336955   \n",
       "std      132.217122    56.778400     4.885329     4.295404    37.226568   \n",
       "min     -473.289615  -218.926601   -14.513627     0.000000  -132.864661   \n",
       "25%      -25.468032   -31.059603    -3.924800     3.715282   -25.511729   \n",
       "50%       63.534198     8.777016    -0.216777     7.430563    -0.412360   \n",
       "75%      150.078262    46.108019     2.975106    11.145845    24.997660   \n",
       "max      514.521051   184.449171    15.945891    14.861126   128.737782   \n",
       "\n",
       "              Att15        Att16        Att17        Att18        Att19  \\\n",
       "count   1200.000000  1200.000000  1200.000000  1200.000000  1200.000000   \n",
       "unique          NaN          NaN          NaN          NaN          NaN   \n",
       "top             NaN          NaN          NaN          NaN          NaN   \n",
       "freq            NaN          NaN          NaN          NaN          NaN   \n",
       "mean       1.991142   -33.929722     0.475639     3.129096     0.725818   \n",
       "std        4.865747   195.973802    20.247367    12.598228    10.850167   \n",
       "min      -11.583944  -882.310873   -62.250319   -28.786351   -34.198287   \n",
       "25%       -1.346314  -160.576552   -12.827253    -5.308835    -6.843140   \n",
       "50%        2.152275   -41.922157    -0.075582     2.731787     0.794882   \n",
       "75%        5.374269    89.125093    14.283162    11.643926     8.116634   \n",
       "max       16.280852   816.556460    71.154463    51.795047    40.068146   \n",
       "\n",
       "              Att20        Att21        Att22        Att23        Att24  \\\n",
       "count   1200.000000  1200.000000  1200.000000  1200.000000  1200.000000   \n",
       "unique          NaN          NaN          NaN          NaN          NaN   \n",
       "top             NaN          NaN          NaN          NaN          NaN   \n",
       "freq            NaN          NaN          NaN          NaN          NaN   \n",
       "mean       4.614506     0.488333  -368.534167     0.515833     1.518331   \n",
       "std        2.667519     0.500072  2584.726635     0.499958     0.877706   \n",
       "min        0.000000     0.000000 -6940.000000     0.000000     0.000000   \n",
       "25%        2.307253     0.000000 -2158.750000     0.000000     0.759166   \n",
       "50%        4.614506     0.000000  -529.500000     1.000000     1.518331   \n",
       "75%        6.921758     1.000000  1051.000000     1.000000     2.277497   \n",
       "max        9.229011     1.000000  9200.000000     1.000000     3.036663   \n",
       "\n",
       "              Att25        Att26        Att27        Att28 Att29        class  \n",
       "count   1200.000000  1200.000000  1200.000000  1200.000000  1200  1000.000000  \n",
       "unique          NaN          NaN          NaN          NaN     7          NaN  \n",
       "top             NaN          NaN          NaN          NaN  OQDJ          NaN  \n",
       "freq            NaN          NaN          NaN          NaN   429          NaN  \n",
       "mean       2.382607     0.131220    21.821867    -0.548260   NaN     1.297000  \n",
       "std        9.675472     3.202912    68.809709     3.844977   NaN     0.781922  \n",
       "min      -28.112520   -10.761918  -196.774837   -10.322514   NaN     0.000000  \n",
       "25%       -3.597412    -2.040810   -22.754496    -3.211332   NaN     1.000000  \n",
       "50%        2.555237     0.114347    22.767702    -0.788438   NaN     1.000000  \n",
       "75%        8.763264     2.234868    68.752101     1.563436   NaN     2.000000  \n",
       "max       32.266739    10.060685   272.678927    13.683698   NaN     2.000000  "
      ]
     },
     "execution_count": 7,
     "metadata": {},
     "output_type": "execute_result"
    }
   ],
   "source": [
    "#printing descriptive statistics about all the columns of dataframe\n",
    "df.describe(include = 'all')"
   ]
  },
  {
   "cell_type": "markdown",
   "metadata": {},
   "source": [
    "#### Observations from descriptive statistics\n",
    "\n",
    "1. There is a huge contrast in range of dimensions. For example, inter-quartile range for Att00 is 4.557 and inter-quartile range for Att02 is 58704.75\n",
    "2. Dimensions with 'object datatype have following number of unique values - \n",
    "    2.1. Att01 -> 10\n",
    "    2.2. Att08 -> 3\n",
    "    2.3. Att29 -> 7\n",
    "    \n",
    "### Now we will create histograms for all the numerical dimentions to understand their distribution better. "
   ]
  },
  {
   "cell_type": "code",
   "execution_count": 8,
   "metadata": {},
   "outputs": [
    {
     "data": {
      "text/plain": [
       "'\\nAuthor: Reka Horvath\\nDate:: n.d.\\nAvailability: https://realpython.com/pandas-plot-python/\\n\\n'"
      ]
     },
     "execution_count": 8,
     "metadata": {},
     "output_type": "execute_result"
    },
    {
     "data": {
      "image/png": "[encoded data removed]",
      "text/plain": [
       "<Figure size 1080x720 with 30 Axes>"
      ]
     },
     "metadata": {
      "needs_background": "light"
     },
     "output_type": "display_data"
    }
   ],
   "source": [
    "numericDF = df.select_dtypes(include=np.number)\n",
    "numericDF.hist(bins=30, figsize=(15, 10))\n",
    "\n",
    "'''\n",
    "Author: Reka Horvath\n",
    "Date:: n.d.\n",
    "Availability: https://realpython.com/pandas-plot-python/\n",
    "\n",
    "'''"
   ]
  },
  {
   "cell_type": "markdown",
   "metadata": {},
   "source": [
    "#### Observations based on distribution of numerical dimentions: \n",
    "1. Most of the dimensions have almost-normal distribution\n",
    "2. Index has uniform distribution. Also, Index dimension do not add any extra information to dataframe (not that is has anything to do with it being uniformally distributed. This just looked like a good time to point that out.)\n",
    "3. Att13, Att20 and Att24 have uniformally distributed data. (This is a bit unusual. We will cheeck if they are scaled up version of eachother during data preparation.)\n",
    "4. Att21 and Att23 has binary data (I am planning to use one-hot encoding. Therefore handling them differently does not look like a neccessity.)\n",
    "\n",
    "### Now we will explore non-numeric dimensions \n",
    "\n",
    "Author: n.d.\n",
    "\n",
    "Date: 2021\n",
    "\n",
    "Availability: https://www.geeksforgeeks.org/multi-plot-grid-in-seaborn/\n"
   ]
  },
  {
   "cell_type": "code",
   "execution_count": 9,
   "metadata": {},
   "outputs": [
    {
     "data": {
      "image/png": "[encoded data removed]",
      "text/plain": [
       "<Figure size 432x288 with 1 Axes>"
      ]
     },
     "metadata": {},
     "output_type": "display_data"
    },
    {
     "data": {
      "image/png": "[encoded data removed]",
      "text/plain": [
       "<Figure size 432x288 with 1 Axes>"
      ]
     },
     "metadata": {},
     "output_type": "display_data"
    },
    {
     "data": {
      "image/png": "[encoded data removed]",
      "text/plain": [
       "<Figure size 432x288 with 1 Axes>"
      ]
     },
     "metadata": {},
     "output_type": "display_data"
    }
   ],
   "source": [
    "sns.set()\n",
    "for i in ['Att01', 'Att08', 'Att29']:\n",
    "    plt.figure() \n",
    "    sns.histplot(binwidth=0.5, x=i, data=df, stat=\"count\", multiple=\"stack\")"
   ]
  },
  {
   "cell_type": "markdown",
   "metadata": {},
   "source": [
    "#### Observations based on the distribution of categorical data: \n",
    "\n",
    "1. For Att01, the data is not equally divided among all the 10 categories. Category 'LWYW' comes 317 time. On the other hand, 'TRRP' features only one time. \n",
    "2. Similarly, there is data imbalance according to 'Att08' and 'Att29' categories too. \n",
    "\n",
    "### Now, let us explore our target dimension -> 'class'"
   ]
  },
  {
   "cell_type": "code",
   "execution_count": 10,
   "metadata": {},
   "outputs": [
    {
     "data": {
      "text/plain": [
       "<AxesSubplot:ylabel='Frequency'>"
      ]
     },
     "execution_count": 10,
     "metadata": {},
     "output_type": "execute_result"
    },
    {
     "data": {
      "image/png": "[encoded data removed]",
      "text/plain": [
       "<Figure size 432x288 with 1 Axes>"
      ]
     },
     "metadata": {},
     "output_type": "display_data"
    }
   ],
   "source": [
    "df['class'].plot(kind = 'hist')"
   ]
  },
  {
   "cell_type": "markdown",
   "metadata": {},
   "source": [
    "The class ratio is 2:3:5. The data is imbalanced (Technically, any ratio other than 1:1:1 is imbalance). However, it is too early to say if we need to do anything to introduce this imbalance. "
   ]
  },
  {
   "cell_type": "markdown",
   "metadata": {},
   "source": [
    "\n",
    "\n",
    "\n",
    "\n",
    "\n",
    "\n",
    "# Data Preparation\n",
    "\n",
    "We will do few tweaks in data to make it more awesome for classification. "
   ]
  },
  {
   "cell_type": "markdown",
   "metadata": {},
   "source": [
    "#### Baby steps first. Lets start with removing index dimension. "
   ]
  },
  {
   "cell_type": "code",
   "execution_count": 11,
   "metadata": {},
   "outputs": [],
   "source": [
    "df.drop('index', axis=1, inplace = True) #axis = 1 is to select 'dimension' axis"
   ]
  },
  {
   "cell_type": "markdown",
   "metadata": {},
   "source": [
    "### Handling Missing Data \n",
    "\n",
    "#### 1. Att09 \n",
    "\n",
    "There are 581 (48%) instances missing for this dimension. I believe that we must try the easiest approach first. If we are able to reach business goal with the easiest approach, then it would save time and efforts. Therefore, I am dropping Att09 from analysis"
   ]
  },
  {
   "cell_type": "code",
   "execution_count": 12,
   "metadata": {},
   "outputs": [],
   "source": [
    "#printing class distribution for missing data\n",
    "df.drop('Att09', axis = 1, inplace = True)"
   ]
  },
  {
   "cell_type": "markdown",
   "metadata": {},
   "source": [
    "### Handling Missing Data \n",
    "\n",
    "#### 2. Att00 \n",
    "\n",
    "There are 9 (48%) instances missing for this dimension. I believe that we must try the easiest approach first. If we are able to reach business goal with the easiest approach, then it would save time and efforts. Therefore, I am dropping all instances where Att00 is missing. Previously, I dropped the entire column as 48% data was missing. However, here, only less than 1% data is missing. Therefore, dropping entire dimension will not be justified"
   ]
  },
  {
   "cell_type": "code",
   "execution_count": 13,
   "metadata": {},
   "outputs": [],
   "source": [
    "df.dropna(inplace = True, subset = ['Att00'])"
   ]
  },
  {
   "cell_type": "markdown",
   "metadata": {},
   "source": [
    "### Handling duplicate instances\n",
    "\n",
    "We will drop all duplicate instances"
   ]
  },
  {
   "cell_type": "code",
   "execution_count": 14,
   "metadata": {},
   "outputs": [
    {
     "name": "stdout",
     "output_type": "stream",
     "text": [
      "(0, 30)\n"
     ]
    }
   ],
   "source": [
    "duplicate = df[df.duplicated()]\n",
    "print(duplicate.shape)"
   ]
  },
  {
   "cell_type": "markdown",
   "metadata": {},
   "source": [
    "As no instance is duplicate, hence we need not to do anything"
   ]
  },
  {
   "cell_type": "markdown",
   "metadata": {},
   "source": [
    "### Handling Categorical Variables (where datatype is object)\n",
    "\n",
    "I am using one-hot encoding for this purpose"
   ]
  },
  {
   "cell_type": "code",
   "execution_count": 15,
   "metadata": {},
   "outputs": [],
   "source": [
    "df = pd.get_dummies(df)"
   ]
  },
  {
   "cell_type": "markdown",
   "metadata": {},
   "source": [
    "### Standardising Data\n",
    "\n",
    "I am also separating class dimension before performing standardisation"
   ]
  },
  {
   "cell_type": "code",
   "execution_count": 40,
   "metadata": {},
   "outputs": [
    {
     "name": "stdout",
     "output_type": "stream",
     "text": [
      "1.5181665559114963 0.8780015864272801\n"
     ]
    }
   ],
   "source": [
    "dfY = df['class']\n",
    "dfX = df.drop(['class'], axis = 1)\n",
    "print(dfX['Att24'].mean(), dfX['Att24'].std())\n",
    "dfX=(dfX-dfX.mean())/dfX.std()\n"
   ]
  },
  {
   "cell_type": "markdown",
   "metadata": {},
   "source": [
    "### Dropping highly correlated data \n",
    "\n",
    "I am plotting how many data dimensions will be lost for different correlation cut-offs\n",
    "\n",
    "Author: NISHA DAGA\n",
    "\n",
    "Date: June, 2017\n",
    "\n",
    "Availability: https://stackoverflow.com/questions/29294983/how-to-calculate-correlation-between-all-columns-and-remove-highly-correlated-on"
   ]
  },
  {
   "cell_type": "code",
   "execution_count": 17,
   "metadata": {},
   "outputs": [
    {
     "data": {
      "text/plain": [
       "[<matplotlib.lines.Line2D at 0x7ffcd0b88670>]"
      ]
     },
     "execution_count": 17,
     "metadata": {},
     "output_type": "execute_result"
    },
    {
     "data": {
      "image/png": "[encoded data removed]",
      "text/plain": [
       "<Figure size 432x288 with 1 Axes>"
      ]
     },
     "metadata": {},
     "output_type": "display_data"
    }
   ],
   "source": [
    "frequency = [0.50, 0.55, 0.60, 0.65, 0.70, 0.75, 0.80, 0.85, 0.90, 0.95]\n",
    "count = []\n",
    "for i in frequency:\n",
    "    corr_matrix = dfX.corr().abs()\n",
    "    upper = corr_matrix.where(np.triu(np.ones(corr_matrix.shape), k=1).astype(np.bool))\n",
    "    to_drop = [column for column in upper.columns if any(upper[column] > i)]\n",
    "    count.append(len(to_drop))\n",
    "plt.plot(frequency, count)"
   ]
  },
  {
   "cell_type": "markdown",
   "metadata": {},
   "source": [
    "It seems that 6 dimensions are copy of some existing dimensions. Apart from them, no other dimensions even have pearson coefficient greater than 0.7"
   ]
  },
  {
   "cell_type": "code",
   "execution_count": 18,
   "metadata": {},
   "outputs": [
    {
     "name": "stdout",
     "output_type": "stream",
     "text": [
      "dimensions that has been dropped are ['Att07', 'Att10', 'Att11', 'Att18', 'Att28', 'Att08_YIFL']\n"
     ]
    }
   ],
   "source": [
    "to_drop = [column for column in upper.columns if any(upper[column] > 0.95)]\n",
    "dfX.drop(to_drop, axis=1, inplace=True)\n",
    "print('dimensions that has been dropped are', to_drop)\n",
    "dfX.drop(['Att08_VEVT', 'Att01_TRRP'], axis=1, inplace=True)"
   ]
  },
  {
   "cell_type": "markdown",
   "metadata": {},
   "source": [
    "### de-attaching dataset for prediction"
   ]
  },
  {
   "cell_type": "code",
   "execution_count": 19,
   "metadata": {},
   "outputs": [
    {
     "name": "stdout",
     "output_type": "stream",
     "text": [
      "(991, 38) (991,) (200, 38)\n"
     ]
    }
   ],
   "source": [
    "dfX_pred = dfX[991:1191]\n",
    "dfX_work = dfX[0:991]\n",
    "dfY_work = dfY[0:991]\n",
    "print(dfX_work.shape, dfY_work.shape, dfX_pred.shape)"
   ]
  },
  {
   "cell_type": "markdown",
   "metadata": {},
   "source": [
    "This ends the data preparation section. We have three dataframes. \n",
    "\n",
    "__dfX_work__ : 991 x 38\n",
    "__dfY_work__ : 991 x 1\n",
    "__dfX_pred__ : 200 x 38"
   ]
  },
  {
   "cell_type": "markdown",
   "metadata": {},
   "source": [
    "# Data Classification"
   ]
  },
  {
   "cell_type": "markdown",
   "metadata": {},
   "source": [
    "It is important to identify that there is class imbalance.\n",
    "My strategy - Do nothing at first. See if we can achieve the business goal (75% accuracy) without addressing class imbalance issue. If we are not able to do that, then I will try oversampling"
   ]
  },
  {
   "cell_type": "markdown",
   "metadata": {},
   "source": [
    "## Test-Train Split"
   ]
  },
  {
   "cell_type": "code",
   "execution_count": 20,
   "metadata": {},
   "outputs": [],
   "source": [
    "from sklearn.model_selection import train_test_split\n",
    "X_train, X_test, y_train, y_test = train_test_split(dfX_work, dfY_work, test_size=0.20)\n",
    "ACCURACY = [] # we will append all the accuracies as we move forward"
   ]
  },
  {
   "cell_type": "markdown",
   "metadata": {},
   "source": [
    "## 1. Random-Forrest Classifier"
   ]
  },
  {
   "cell_type": "code",
   "execution_count": 21,
   "metadata": {},
   "outputs": [],
   "source": [
    "def plot_grid_search(cv_results, grid_param_1, grid_param_2, name_param_1, name_param_2):\n",
    "    '''\n",
    "    Author: David Alvarez and Mike Lewis\n",
    "    Date: 2018\n",
    "    Availability: https://stackoverflow.com/questions/37161563/how-to-graph-grid-scores-from-gridsearchcv\n",
    "    '''\n",
    "    # Get Test Scores Mean and std for each grid search\n",
    "    scores_mean = cv_results['mean_test_score']\n",
    "    scores_mean = np.array(scores_mean).reshape(len(grid_param_2),len(grid_param_1))\n",
    "\n",
    "    scores_sd = cv_results['std_test_score']\n",
    "    scores_sd = np.array(scores_sd).reshape(len(grid_param_2),len(grid_param_1))\n",
    "\n",
    "    # Plot Grid search scores\n",
    "    _, ax = plt.subplots(1,1)\n",
    "\n",
    "    # Param1 is the X-axis, Param 2 is represented as a different curve (color line)\n",
    "    for idx, val in enumerate(grid_param_2):\n",
    "        ax.plot(grid_param_1, scores_mean[idx,:], '-o', label= name_param_2 + ': ' + str(val))\n",
    "\n",
    "    ax.set_title(\"Grid Search Scores\", fontsize=20, fontweight='bold')\n",
    "    ax.set_xlabel(name_param_1, fontsize=16)\n",
    "    ax.set_ylabel('CV Average Score', fontsize=16)\n",
    "    ax.legend(loc=\"best\", fontsize=15)\n",
    "    ax.grid('on')"
   ]
  },
  {
   "cell_type": "code",
   "execution_count": 45,
   "metadata": {},
   "outputs": [
    {
     "data": {
      "text/plain": [
       "array([[ 25,   5,  10],\n",
       "       [  6,  43,   8],\n",
       "       [  0,   2, 100]])"
      ]
     },
     "execution_count": 45,
     "metadata": {},
     "output_type": "execute_result"
    },
    {
     "data": {
      "image/png": "[encoded data removed]",
      "text/plain": [
       "<Figure size 432x288 with 1 Axes>"
      ]
     },
     "metadata": {},
     "output_type": "display_data"
    }
   ],
   "source": [
    "#Code inspired from Practicle sessions held by Dr Paul Hancock at Curtin University in Sem 2 of 2021\n",
    "from sklearn.ensemble import RandomForestClassifier\n",
    "from sklearn.model_selection import GridSearchCV\n",
    "from sklearn import metrics\n",
    "n_estimators = [50, 100, 150, 200, 300]\n",
    "criterion = ['gini', 'entropy']\n",
    "params = [{'n_estimators' : n_estimators,\n",
    "           'criterion' : criterion\n",
    "          }]\n",
    "clf_rff = GridSearchCV(RandomForestClassifier(), param_grid=params, scoring='accuracy',cv=5)\n",
    "clf_rff.fit(X_train,y_train)\n",
    "y_pred=clf_rff.predict(X_test)\n",
    "plot_grid_search(clf_rff.cv_results_, n_estimators, criterion, 'N Estimators', 'Criterion')\n"
   ]
  },
  {
   "cell_type": "markdown",
   "metadata": {},
   "source": [
    "As evident from the graph above, the best n_estimator = 200 for entropy criterion. Therefore, we will create a model with these parameters and test it on test data"
   ]
  },
  {
   "cell_type": "code",
   "execution_count": 46,
   "metadata": {},
   "outputs": [
    {
     "name": "stdout",
     "output_type": "stream",
     "text": [
      "Accuracy: 0.8542713567839196\n"
     ]
    },
    {
     "data": {
      "text/plain": [
       "array([[24,  5, 11],\n",
       "       [ 4, 48,  5],\n",
       "       [ 0,  4, 98]])"
      ]
     },
     "execution_count": 46,
     "metadata": {},
     "output_type": "execute_result"
    }
   ],
   "source": [
    "rff = RandomForestClassifier(n_estimators = 200, criterion = 'entropy')\n",
    "rff.fit(X_train,y_train)\n",
    "y_pred=rff.predict(X_test)\n",
    "print(\"Accuracy:\",metrics.accuracy_score(y_test, y_pred))\n",
    "ACCURACY.append(['Random Forrest', metrics.accuracy_score(y_test, y_pred)])\n",
    "metrics.confusion_matrix(y_test, y_pred)"
   ]
  },
  {
   "cell_type": "markdown",
   "metadata": {},
   "source": [
    "## 2. k-NN Classifier"
   ]
  },
  {
   "cell_type": "code",
   "execution_count": 24,
   "metadata": {},
   "outputs": [
    {
     "data": {
      "image/png": "[encoded data removed]",
      "text/plain": [
       "<Figure size 432x288 with 1 Axes>"
      ]
     },
     "metadata": {},
     "output_type": "display_data"
    }
   ],
   "source": [
    "#Code inspired from Practicle sessions held by Dr Paul Hancock at Curtin University in Sem 2 of 2021\n",
    "from sklearn.neighbors import KNeighborsClassifier\n",
    "n_neighbors = [1, 2, 3, 5, 6, 8, 10]\n",
    "p = [1, 2]\n",
    "params = [{'n_neighbors' : n_neighbors,\n",
    "           'p' : p\n",
    "          }]\n",
    "clf_knn = GridSearchCV(KNeighborsClassifier(), param_grid=params, scoring='accuracy',cv=5)\n",
    "clf_knn.fit(X_train,y_train)\n",
    "y_pred=clf_knn.predict(X_test)\n",
    "plot_grid_search(clf_knn.cv_results_, n_neighbors, p, 'Number of neighbors', 'type of distance')"
   ]
  },
  {
   "cell_type": "markdown",
   "metadata": {},
   "source": [
    "It is evident that best results are when number of neighbors = 2 for euclidian distance"
   ]
  },
  {
   "cell_type": "code",
   "execution_count": 44,
   "metadata": {},
   "outputs": [
    {
     "name": "stdout",
     "output_type": "stream",
     "text": [
      "Accuracy: 0.6482412060301508\n"
     ]
    },
    {
     "data": {
      "text/plain": [
       "array([[28,  5,  7],\n",
       "       [14, 33, 10],\n",
       "       [18, 16, 68]])"
      ]
     },
     "execution_count": 44,
     "metadata": {},
     "output_type": "execute_result"
    }
   ],
   "source": [
    "knn = KNeighborsClassifier(n_neighbors = 2) #by default p = 2 for KNeighborsClassifier\n",
    "knn.fit(X_train,y_train)\n",
    "y_pred=knn.predict(X_test)\n",
    "print(\"Accuracy:\",metrics.accuracy_score(y_test, y_pred))\n",
    "ACCURACY.append(['knn', metrics.accuracy_score(y_test, y_pred)])\n",
    "metrics.confusion_matrix(y_test, y_pred)"
   ]
  },
  {
   "cell_type": "markdown",
   "metadata": {},
   "source": [
    "## 3. Gaussian Naive-Bayes Classifier"
   ]
  },
  {
   "cell_type": "code",
   "execution_count": 26,
   "metadata": {},
   "outputs": [
    {
     "data": {
      "image/png": "[encoded data removed]",
      "text/plain": [
       "<Figure size 432x288 with 1 Axes>"
      ]
     },
     "metadata": {},
     "output_type": "display_data"
    }
   ],
   "source": [
    "#Code inspired from Practicle sessions held by Dr Paul Hancock at Curtin University in Sem 2 of 2021\n",
    "from sklearn.naive_bayes import GaussianNB\n",
    "\n",
    "var_smoothing = np.logspace(0,-9, num=100)\n",
    "\n",
    "p = [1, 2]\n",
    "params = [{'var_smoothing' : var_smoothing\n",
    "          }]\n",
    "clf_nb = GridSearchCV(GaussianNB(), param_grid=params, scoring='accuracy',cv=5)\n",
    "clf_nb.fit(X_train,y_train)\n",
    "y_pred=clf_nb.predict(X_test)\n",
    "p = [1] #just for plotting. no significance. I thought that tampering with plotting function can turn out to be dangerous. \n",
    "plot_grid_search(clf_nb.cv_results_, var_smoothing, p, 'Number of neighbors', '')"
   ]
  },
  {
   "cell_type": "code",
   "execution_count": 27,
   "metadata": {},
   "outputs": [
    {
     "name": "stdout",
     "output_type": "stream",
     "text": [
      "the best parameter for naive byes is :  {'var_smoothing': 0.8111308307896871}\n"
     ]
    }
   ],
   "source": [
    "print('the best parameter for naive byes is : ', clf_nb.best_params_)"
   ]
  },
  {
   "cell_type": "code",
   "execution_count": 28,
   "metadata": {},
   "outputs": [
    {
     "name": "stdout",
     "output_type": "stream",
     "text": [
      "Accuracy: 0.6030150753768844\n"
     ]
    }
   ],
   "source": [
    "nb = GaussianNB(var_smoothing = 0.81113) \n",
    "nb.fit(X_train,y_train)\n",
    "y_pred=nb.predict(X_test)\n",
    "print(\"Accuracy:\",metrics.accuracy_score(y_test, y_pred))\n",
    "ACCURACY.append(['Naive Bayes', metrics.accuracy_score(y_test, y_pred)])"
   ]
  },
  {
   "cell_type": "markdown",
   "metadata": {},
   "source": [
    "## 4. Decision Tree Classifier"
   ]
  },
  {
   "cell_type": "code",
   "execution_count": 29,
   "metadata": {},
   "outputs": [
    {
     "data": {
      "image/png": "[encoded data removed]",
      "text/plain": [
       "<Figure size 432x288 with 1 Axes>"
      ]
     },
     "metadata": {},
     "output_type": "display_data"
    }
   ],
   "source": [
    "#Code inspired from Practicle sessions held by Dr Paul Hancock at Curtin University in Sem 2 of 2021\n",
    "from sklearn.tree import DecisionTreeClassifier\n",
    "\n",
    "min_samples_leaf = [i for i in range(1, 10)]\n",
    "\n",
    "criterion = ['gini', 'entropy']\n",
    "params = [{'min_samples_leaf' : min_samples_leaf,\n",
    "          'criterion': criterion}]\n",
    "clf_dt = GridSearchCV(DecisionTreeClassifier(), param_grid=params, scoring='accuracy',cv=5)\n",
    "clf_dt.fit(X_train, y_train)\n",
    "y_pred=clf_dt.predict(X_test)\n",
    "plot_grid_search(clf_dt.cv_results_, min_samples_leaf, criterion, 'Minimum Sample Leaves', 'Criterion')\n"
   ]
  },
  {
   "cell_type": "markdown",
   "metadata": {},
   "source": [
    "It is eveident that the best parameter is number of minimum sample leaves = 3 for entropy criterion"
   ]
  },
  {
   "cell_type": "code",
   "execution_count": 36,
   "metadata": {},
   "outputs": [
    {
     "name": "stdout",
     "output_type": "stream",
     "text": [
      "Accuracy: 0.7035175879396985\n"
     ]
    },
    {
     "data": {
      "image/png": "[encoded data removed]",
      "text/plain": [
       "<Figure size 432x288 with 1 Axes>"
      ]
     },
     "metadata": {},
     "output_type": "display_data"
    }
   ],
   "source": [
    "from sklearn import tree\n",
    "dt = DecisionTreeClassifier(criterion = 'entropy', min_samples_leaf = 3) \n",
    "dt.fit(X_train,y_train)\n",
    "tree.plot_tree(dt, max_depth = 0)\n",
    "y_pred=dt.predict(X_test)\n",
    "print(\"Accuracy:\",metrics.accuracy_score(y_test, y_pred))\n",
    "ACCURACY.append(['Decision Tree', metrics.accuracy_score(y_test, y_pred)])"
   ]
  },
  {
   "cell_type": "code",
   "execution_count": 31,
   "metadata": {},
   "outputs": [
    {
     "name": "stdout",
     "output_type": "stream",
     "text": [
      "[['Random Forrest', 0.8341708542713567], ['knn', 0.6482412060301508], ['Naive Bayes', 0.6030150753768844], ['Decision Tree', 0.7185929648241206]]\n"
     ]
    }
   ],
   "source": [
    "print(ACCURACY)"
   ]
  },
  {
   "cell_type": "markdown",
   "metadata": {},
   "source": [
    "# Model Selection \n",
    "\n",
    "The two best Model that we have in order or accuracy are: \n",
    "\n",
    "__Random Forrest Classifier__ : 83.41% accuracy\n",
    "\n",
    "__Decision Tree Claffifier__ : 71.85%\n"
   ]
  },
  {
   "cell_type": "markdown",
   "metadata": {},
   "source": [
    "## Saving predictions done by these two models in a sqlite file with the name 'Answers.sqlite'"
   ]
  },
  {
   "cell_type": "code",
   "execution_count": 32,
   "metadata": {},
   "outputs": [
    {
     "name": "stdout",
     "output_type": "stream",
     "text": [
      "       Predict1  Predict2\n",
      "index                    \n",
      "1000          2         2\n",
      "1001          1         1\n",
      "1002          2         2\n",
      "1003          2         2\n",
      "1004          1         1\n",
      "1005          2         2\n",
      "1006          1         1\n",
      "1007          2         1\n",
      "1008          2         2\n",
      "1009          2         0\n",
      "1010          2         2\n",
      "1011          2         1\n",
      "1012          2         2\n",
      "1013          2         2\n",
      "1014          2         0\n",
      "1015          1         2\n",
      "1016          1         1\n",
      "1017          2         2\n",
      "1018          2         2\n",
      "1019          1         0\n",
      "1020          1         1\n",
      "1021          2         2\n",
      "1022          0         0\n",
      "1023          2         1\n",
      "1024          1         1\n",
      "1025          2         0\n",
      "1026          2         2\n",
      "1027          2         0\n",
      "1028          2         2\n",
      "1029          2         2\n",
      "1030          2         2\n",
      "1031          2         2\n",
      "1032          0         2\n",
      "1033          0         0\n",
      "1034          2         2\n",
      "1035          2         2\n",
      "1036          1         1\n",
      "1037          1         1\n",
      "1038          0         0\n",
      "1039          2         1\n",
      "1040          1         2\n",
      "1041          2         2\n",
      "1042          2         2\n",
      "1043          2         2\n",
      "1044          2         2\n",
      "1045          2         0\n",
      "1046          2         2\n",
      "1047          1         1\n",
      "1048          2         2\n",
      "1049          0         0\n",
      "1050          1         1\n",
      "1051          1         2\n",
      "1052          2         2\n",
      "1053          1         1\n",
      "1054          2         2\n",
      "1055          1         1\n",
      "1056          1         0\n",
      "1057          2         0\n",
      "1058          2         0\n",
      "1059          2         0\n",
      "1060          0         0\n",
      "1061          2         2\n",
      "1062          2         1\n",
      "1063          1         2\n",
      "1064          0         0\n",
      "1065          2         2\n",
      "1066          2         0\n",
      "1067          1         0\n",
      "1068          2         0\n",
      "1069          1         0\n",
      "1070          1         1\n",
      "1071          2         2\n",
      "1072          0         0\n",
      "1073          2         0\n",
      "1074          2         2\n",
      "1075          1         1\n",
      "1076          0         0\n",
      "1077          2         2\n",
      "1078          1         1\n",
      "1079          2         0\n",
      "1080          1         1\n",
      "1081          2         2\n",
      "1082          2         0\n",
      "1083          2         2\n",
      "1084          2         2\n",
      "1085          2         2\n",
      "1086          2         1\n",
      "1087          1         2\n",
      "1088          2         2\n",
      "1089          2         2\n",
      "1090          1         1\n",
      "1091          0         0\n",
      "1092          0         0\n",
      "1093          1         2\n",
      "1094          0         0\n",
      "1095          0         0\n",
      "1096          1         0\n",
      "1097          2         1\n",
      "1098          1         1\n",
      "1099          0         1\n",
      "1100          2         0\n",
      "1101          0         0\n",
      "1102          1         2\n",
      "1103          0         0\n",
      "1104          0         0\n",
      "1105          2         0\n",
      "1106          1         1\n",
      "1107          1         1\n",
      "1108          2         2\n",
      "1109          1         1\n",
      "1110          2         2\n",
      "1111          2         2\n",
      "1112          2         2\n",
      "1113          2         2\n",
      "1114          1         0\n",
      "1115          2         0\n",
      "1116          1         2\n",
      "1117          1         1\n",
      "1118          2         0\n",
      "1119          1         1\n",
      "1120          1         0\n",
      "1121          2         2\n",
      "1122          2         2\n",
      "1123          2         2\n",
      "1124          0         1\n",
      "1125          0         0\n",
      "1126          1         1\n",
      "1127          2         2\n",
      "1128          2         2\n",
      "1129          1         1\n",
      "1130          2         2\n",
      "1131          2         2\n",
      "1132          1         1\n",
      "1133          2         2\n",
      "1134          1         0\n",
      "1135          1         1\n",
      "1136          1         1\n",
      "1137          2         1\n",
      "1138          2         2\n",
      "1139          2         2\n",
      "1140          1         1\n",
      "1141          1         1\n",
      "1142          2         0\n",
      "1143          0         0\n",
      "1144          2         2\n",
      "1145          2         1\n",
      "1146          1         1\n",
      "1147          1         1\n",
      "1148          2         2\n",
      "1149          2         2\n",
      "1150          2         2\n",
      "1151          1         1\n",
      "1152          2         2\n",
      "1153          0         0\n",
      "1154          0         0\n",
      "1155          1         2\n",
      "1156          1         2\n",
      "1157          2         0\n",
      "1158          2         2\n",
      "1159          2         2\n",
      "1160          2         0\n",
      "1161          2         2\n",
      "1162          1         1\n",
      "1163          2         2\n",
      "1164          2         2\n",
      "1165          2         2\n",
      "1166          2         2\n",
      "1167          2         2\n",
      "1168          1         1\n",
      "1169          1         1\n",
      "1170          1         1\n",
      "1171          0         0\n",
      "1172          2         2\n",
      "1173          2         2\n",
      "1174          2         2\n",
      "1175          2         2\n",
      "1176          2         2\n",
      "1177          2         2\n",
      "1178          2         2\n",
      "1179          0         0\n",
      "1180          0         0\n",
      "1181          2         2\n",
      "1182          1         1\n",
      "1183          1         0\n",
      "1184          2         2\n",
      "1185          2         2\n",
      "1186          1         1\n",
      "1187          2         2\n",
      "1188          0         1\n",
      "1189          2         2\n",
      "1190          0         1\n",
      "1191          1         1\n",
      "1192          2         2\n",
      "1193          2         2\n",
      "1194          2         2\n",
      "1195          1         1\n",
      "1196          2         2\n",
      "1197          2         2\n",
      "1198          2         2\n",
      "1199          1         1\n"
     ]
    }
   ],
   "source": [
    "answers = pd.DataFrame()\n",
    "answers['index'] = range(1000, 1200)\n",
    "answers['Predict1'] = rff.predict(dfX_pred).astype(np.int32)\n",
    "answers['Predict2'] = dt.predict(dfX_pred).astype(np.int32)\n",
    "answers = answers.set_index('index')\n",
    "print(answers)"
   ]
  },
  {
   "cell_type": "code",
   "execution_count": 41,
   "metadata": {},
   "outputs": [
    {
     "data": {
      "text/plain": [
       "1.363638276700295"
      ]
     },
     "execution_count": 41,
     "metadata": {},
     "output_type": "execute_result"
    }
   ],
   "source": [
    "(-0.176 * 0.8780015864272801) + 1.5181665559114963 "
   ]
  },
  {
   "cell_type": "markdown",
   "metadata": {},
   "source": [
    "### The End"
   ]
  }
 ],
 "metadata": {
  "kernelspec": {
   "display_name": "Python 3",
   "language": "python",
   "name": "python3"
  },
  "language_info": {
   "codemirror_mode": {
    "name": "ipython",
    "version": 3
   },
   "file_extension": ".py",
   "mimetype": "text/x-python",
   "name": "python",
   "nbconvert_exporter": "python",
   "pygments_lexer": "ipython3",
   "version": "3.8.5"
  }
 },
 "nbformat": 4,
 "nbformat_minor": 4
}
