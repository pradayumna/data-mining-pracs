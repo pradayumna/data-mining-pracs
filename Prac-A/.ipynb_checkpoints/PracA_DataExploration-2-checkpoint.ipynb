{
 "cells": [
  {
   "cell_type": "markdown",
   "metadata": {
    "id": "7iVHC1J9-_NJ"
   },
   "source": [
    "# Pracitcal A - Data Exploration in Pandas\n",
    "\n",
    "\n",
    "In this practical we'll be using Python/[Pandas](https://pandas.pydata.org) to explore and visualise some example data using [Jupyter Notebooks](jupyter.org) in [Google Collab](colab.research.google.com).\n",
    "\n",
    "The data files that we will be using in this prac, and many future pracs, are hosted on GitHub at [github.com/PaulHancock/COMP5009_pracs](https://github.com/PaulHancock/COMP5009_pracs)\n",
    "\n",
    "For each of these notebooks you should either:\n",
    "- File -> Save as copy in Drive\n",
    "  - To run via google collab\n",
    "- File -> Downaload -> Download .ipynb\n",
    "  - If you want to run on your own computer.\n",
    "  - Good idea to do this at the end of the prac so you have a record of your work.\n",
    "\n"
   ]
  },
  {
   "cell_type": "markdown",
   "metadata": {
    "id": "1Ze-LqGGALis"
   },
   "source": [
    "## Titanic Manifest\n",
    "\n",
    "Complete the following tasks:\n",
    "1. Load the data file [titanic.csv](https://raw.githubusercontent.com/PaulHancock/COMP5009_pracs/main/data/titanic.csv) from GitHub. \n",
    "1. Is the data multidimensional?  \n",
    "  a. Find the number of attributes and the number of instances. \n",
    "1. Examine each attribute (pay attention to the number of distinct/unique values) and suggest the best data type for it. \n",
    "1. For each attribute, check if there are any missing entries and list these instances if found. \n",
    "1. For each attribute, plot its histogram and make a comment. \n",
    "  a. Find the min, max, median, mode values if relevant "
   ]
  },
  {
   "cell_type": "code",
   "execution_count": 1,
   "metadata": {
    "id": "9a4319d9-09fb-4c84-897d-285210aa7edc"
   },
   "outputs": [],
   "source": [
    "# Load the modules that we'll be using\n",
    "import numpy as np\n",
    "import pandas as pd\n",
    "from matplotlib import pyplot as plt\n",
    "# np, pd, and plt are common shorthands for these often used modules"
   ]
  },
  {
   "cell_type": "markdown",
   "metadata": {
    "id": "Y6SsuKXLBM69"
   },
   "source": [
    "### Part 1.\n",
    "Lets load the data into a pandas data frame"
   ]
  },
  {
   "cell_type": "code",
   "execution_count": 3,
   "metadata": {
    "id": "73a6d14d-19e7-4f1f-aca0-d02b2bfba8ac"
   },
   "outputs": [],
   "source": [
    "# The data are hosted in github and we can load it directly from the URL\n",
    "data_url = 'https://raw.githubusercontent.com/PaulHancock/COMP5009_pracs/main/data/titanic.csv'\n",
    "df = pd.read_csv(data_url)"
   ]
  },
  {
   "cell_type": "code",
   "execution_count": 4,
   "metadata": {
    "id": "ByjVklyFBb6E"
   },
   "outputs": [
    {
     "data": {
      "text/html": [
       "<div>\n",
       "<style scoped>\n",
       "    .dataframe tbody tr th:only-of-type {\n",
       "        vertical-align: middle;\n",
       "    }\n",
       "\n",
       "    .dataframe tbody tr th {\n",
       "        vertical-align: top;\n",
       "    }\n",
       "\n",
       "    .dataframe thead th {\n",
       "        text-align: right;\n",
       "    }\n",
       "</style>\n",
       "<table border=\"1\" class=\"dataframe\">\n",
       "  <thead>\n",
       "    <tr style=\"text-align: right;\">\n",
       "      <th></th>\n",
       "      <th>PassengerId</th>\n",
       "      <th>Survived</th>\n",
       "      <th>Pclass</th>\n",
       "      <th>Name</th>\n",
       "      <th>Sex</th>\n",
       "      <th>Age</th>\n",
       "      <th>SibSp</th>\n",
       "      <th>Parch</th>\n",
       "      <th>Ticket</th>\n",
       "      <th>Fare</th>\n",
       "      <th>Cabin</th>\n",
       "      <th>Embarked</th>\n",
       "    </tr>\n",
       "  </thead>\n",
       "  <tbody>\n",
       "    <tr>\n",
       "      <th>0</th>\n",
       "      <td>1</td>\n",
       "      <td>0</td>\n",
       "      <td>3</td>\n",
       "      <td>Braund, Mr. Owen Harris</td>\n",
       "      <td>male</td>\n",
       "      <td>22.0</td>\n",
       "      <td>1</td>\n",
       "      <td>0</td>\n",
       "      <td>A/5 21171</td>\n",
       "      <td>7.2500</td>\n",
       "      <td>NaN</td>\n",
       "      <td>S</td>\n",
       "    </tr>\n",
       "    <tr>\n",
       "      <th>1</th>\n",
       "      <td>2</td>\n",
       "      <td>1</td>\n",
       "      <td>1</td>\n",
       "      <td>Cumings, Mrs. John Bradley (Florence Briggs Th...</td>\n",
       "      <td>female</td>\n",
       "      <td>38.0</td>\n",
       "      <td>1</td>\n",
       "      <td>0</td>\n",
       "      <td>PC 17599</td>\n",
       "      <td>71.2833</td>\n",
       "      <td>C85</td>\n",
       "      <td>C</td>\n",
       "    </tr>\n",
       "    <tr>\n",
       "      <th>2</th>\n",
       "      <td>3</td>\n",
       "      <td>1</td>\n",
       "      <td>3</td>\n",
       "      <td>Heikkinen, Miss. Laina</td>\n",
       "      <td>female</td>\n",
       "      <td>26.0</td>\n",
       "      <td>0</td>\n",
       "      <td>0</td>\n",
       "      <td>STON/O2. 3101282</td>\n",
       "      <td>7.9250</td>\n",
       "      <td>NaN</td>\n",
       "      <td>S</td>\n",
       "    </tr>\n",
       "    <tr>\n",
       "      <th>3</th>\n",
       "      <td>4</td>\n",
       "      <td>1</td>\n",
       "      <td>1</td>\n",
       "      <td>Futrelle, Mrs. Jacques Heath (Lily May Peel)</td>\n",
       "      <td>female</td>\n",
       "      <td>35.0</td>\n",
       "      <td>1</td>\n",
       "      <td>0</td>\n",
       "      <td>113803</td>\n",
       "      <td>53.1000</td>\n",
       "      <td>C123</td>\n",
       "      <td>S</td>\n",
       "    </tr>\n",
       "    <tr>\n",
       "      <th>4</th>\n",
       "      <td>5</td>\n",
       "      <td>0</td>\n",
       "      <td>3</td>\n",
       "      <td>Allen, Mr. William Henry</td>\n",
       "      <td>male</td>\n",
       "      <td>35.0</td>\n",
       "      <td>0</td>\n",
       "      <td>0</td>\n",
       "      <td>373450</td>\n",
       "      <td>8.0500</td>\n",
       "      <td>NaN</td>\n",
       "      <td>S</td>\n",
       "    </tr>\n",
       "  </tbody>\n",
       "</table>\n",
       "</div>"
      ],
      "text/plain": [
       "   PassengerId  Survived  Pclass  \\\n",
       "0            1         0       3   \n",
       "1            2         1       1   \n",
       "2            3         1       3   \n",
       "3            4         1       1   \n",
       "4            5         0       3   \n",
       "\n",
       "                                                Name     Sex   Age  SibSp  \\\n",
       "0                            Braund, Mr. Owen Harris    male  22.0      1   \n",
       "1  Cumings, Mrs. John Bradley (Florence Briggs Th...  female  38.0      1   \n",
       "2                             Heikkinen, Miss. Laina  female  26.0      0   \n",
       "3       Futrelle, Mrs. Jacques Heath (Lily May Peel)  female  35.0      1   \n",
       "4                           Allen, Mr. William Henry    male  35.0      0   \n",
       "\n",
       "   Parch            Ticket     Fare Cabin Embarked  \n",
       "0      0         A/5 21171   7.2500   NaN        S  \n",
       "1      0          PC 17599  71.2833   C85        C  \n",
       "2      0  STON/O2. 3101282   7.9250   NaN        S  \n",
       "3      0            113803  53.1000  C123        S  \n",
       "4      0            373450   8.0500   NaN        S  "
      ]
     },
     "execution_count": 4,
     "metadata": {},
     "output_type": "execute_result"
    }
   ],
   "source": [
    "# Inspect the data frame to see what that data looks like. The first few rows will be enough.\n",
    "df.head()\n",
    "# we could pass a parameter to head to give us more or fewer rows. Default is 5."
   ]
  },
  {
   "cell_type": "markdown",
   "metadata": {
    "id": "xtppQfiUCFKn"
   },
   "source": [
    "Note that above there is a column on the left with no title. This is the pandas index for that instance/row, it is *not* part of the data that were loaded."
   ]
  },
  {
   "cell_type": "markdown",
   "metadata": {
    "id": "H_s4ySlKBnK0"
   },
   "source": [
    "### Part 2.\n",
    "Is the data multi-dimensional?\n",
    "There are two options here:\n",
    "- Inspect the table above manually (by eye)\n",
    "- Inspect the data frame programatically\n",
    "\n",
    "We'll do both and see if they agree."
   ]
  },
  {
   "cell_type": "code",
   "execution_count": 5,
   "metadata": {
    "id": "adcb6bf0-2ea6-4e53-bf48-e8e3fb00bcd2"
   },
   "outputs": [
    {
     "name": "stdout",
     "output_type": "stream",
     "text": [
      "Index(['PassengerId', 'Survived', 'Pclass', 'Name', 'Sex', 'Age', 'SibSp',\n",
      "       'Parch', 'Ticket', 'Fare', 'Cabin', 'Embarked'],\n",
      "      dtype='object')\n",
      "The data has 891 dimensions and 12 instances\n"
     ]
    }
   ],
   "source": [
    "# access columns. Note that the index mentioned above is not included in this.\n",
    "print(df.columns)\n",
    "\n",
    "# the number of dimensions is the number of columns\n",
    "dimensions = len(df.axes[0])\n",
    "instances = len(df.axes[1])\n",
    "print(f'The data has {dimensions} dimensions and {instances} instances')"
   ]
  },
  {
   "cell_type": "markdown",
   "metadata": {
    "id": "ePoLBMHCCh23"
   },
   "source": [
    "Does your programatic approach agree with your by-eye inspection?"
   ]
  },
  {
   "cell_type": "markdown",
   "metadata": {
    "id": "-I7Lc91aCqEA"
   },
   "source": [
    "### Part 3.\n",
    "Examine each attribute (pay attention to the number of distinct/unique values) and suggest the best data type for it."
   ]
  },
  {
   "cell_type": "markdown",
   "metadata": {
    "id": "bdBQ9lopC3UG"
   },
   "source": [
    "By eye, what data types do you suggest for each column?\n",
    "\n",
    "Compare this to what pandas has assumed by inspecting the parameter `df.dtypes`"
   ]
  },
  {
   "cell_type": "code",
   "execution_count": 6,
   "metadata": {
    "id": "52a94078-cc0d-4b4c-8e1a-67590eabcc8c"
   },
   "outputs": [
    {
     "data": {
      "text/plain": [
       "PassengerId      int64\n",
       "Survived         int64\n",
       "Pclass           int64\n",
       "Name            object\n",
       "Sex             object\n",
       "Age            float64\n",
       "SibSp            int64\n",
       "Parch            int64\n",
       "Ticket          object\n",
       "Fare           float64\n",
       "Cabin           object\n",
       "Embarked        object\n",
       "dtype: object"
      ]
     },
     "execution_count": 6,
     "metadata": {},
     "output_type": "execute_result"
    }
   ],
   "source": [
    "df.dtypes"
   ]
  },
  {
   "cell_type": "markdown",
   "metadata": {
    "id": "dfD3NQRZDG35"
   },
   "source": [
    "### Part 4.\n",
    "For each attribute, check if there are any missing entries and list these instances if found.\n",
    "\n",
    "Here we can make use of the function `isna` attached to each of the columns. The `isna` function will return a list of `True/False` for each entry in the column, cooresponding to entires that are `NaN` or not. Look at the first row of the table show above - you can see that the attribute `Cabin` is `NaN`. Pandas uses `NaN` to represent masked or missing data. In the csv file this is an entry corresponding to the empty string.\n",
    "\n",
    "Once you figure out how to count the number of missing entries in a column I recommend that you create a function that will iterate over all columns and print out the number and fraction of missing items."
   ]
  },
  {
   "cell_type": "code",
   "execution_count": 8,
   "metadata": {
    "id": "ff192f8c-dd6d-4cce-9ecf-e36a078bd52d"
   },
   "outputs": [],
   "source": [
    "# find which columns have missing data\n",
    "def n_missing(df):\n",
    "    for attributes in df.columns:\n",
    "        missing = df[attributes].isna().sum()\n",
    "        total = len(df[attributes])\n",
    "        print(f'{attributes} has {missing}/{total} blank entries ({missing/total*100:.2f}%)')\n",
    "    return"
   ]
  },
  {
   "cell_type": "markdown",
   "metadata": {
    "id": "GDknnoe0EdaE"
   },
   "source": [
    "Once you have written the function `n_missing` run it in the cell below passing in our data frame."
   ]
  },
  {
   "cell_type": "code",
   "execution_count": 9,
   "metadata": {
    "id": "bf2c4b24-c4c8-46c1-98a6-f9b2155c239a"
   },
   "outputs": [
    {
     "name": "stdout",
     "output_type": "stream",
     "text": [
      "PassengerId has 0/891 blank entries (0.00%)\n",
      "Survived has 0/891 blank entries (0.00%)\n",
      "Pclass has 0/891 blank entries (0.00%)\n",
      "Name has 0/891 blank entries (0.00%)\n",
      "Sex has 0/891 blank entries (0.00%)\n",
      "Age has 177/891 blank entries (19.87%)\n",
      "SibSp has 0/891 blank entries (0.00%)\n",
      "Parch has 0/891 blank entries (0.00%)\n",
      "Ticket has 0/891 blank entries (0.00%)\n",
      "Fare has 0/891 blank entries (0.00%)\n",
      "Cabin has 687/891 blank entries (77.10%)\n",
      "Embarked has 2/891 blank entries (0.22%)\n"
     ]
    }
   ],
   "source": [
    "n_missing(df)"
   ]
  },
  {
   "cell_type": "markdown",
   "metadata": {
    "id": "U99LWsmmFYdk"
   },
   "source": [
    "### Part 5\n",
    "For each attribute, plot its histogram and make a comment. Find the min, max, median, mode values if relevant.\n",
    "\n",
    "This is most easily done using the `.plot()` function provided by each column of our dataframe.\n",
    "Use `help(df.plot)` to see the parameters that we can provide.\n",
    "\n",
    "Below is an example for the first attribute:"
   ]
  },
  {
   "cell_type": "code",
   "execution_count": 11,
   "metadata": {
    "id": "2fb8b864-e0e9-42f0-a9b7-3d407beb360f"
   },
   "outputs": [
    {
     "data": {
      "image/png": "[encoded data removed]",
      "text/plain": [
       "<Figure size 432x288 with 1 Axes>"
      ]
     },
     "metadata": {
      "needs_background": "light"
     },
     "output_type": "display_data"
    }
   ],
   "source": [
    "# the plot function returns a matplotlib axes instances so we capture that and modify the plot afterwards\n",
    "ax = df['Survived'].plot(kind='hist')\n",
    "ax.set_xlabel('PassengerId')\n",
    "plt.show() # calling this will supress extra text output. It's not essential."
   ]
  },
  {
   "cell_type": "markdown",
   "metadata": {
    "id": "rCzqs20cWRFl"
   },
   "source": [
    "You might want to make a function that will iterate through each of the attributes and plot them. Extra points if you can do this as a grid of plots."
   ]
  },
  {
   "cell_type": "code",
   "execution_count": 15,
   "metadata": {
    "id": "24AVyQrjWdbU"
   },
   "outputs": [
    {
     "data": {
      "image/png": "[encoded data removed]",
      "text/plain": [
       "<Figure size 432x288 with 7 Axes>"
      ]
     },
     "metadata": {
      "needs_background": "light"
     },
     "output_type": "display_data"
    }
   ],
   "source": [
    "# plot histograms for all the numeric attributes\n",
    "df.plot(subplots=True, kind = 'hist')\n",
    "\n",
    "plt.show()"
   ]
  },
  {
   "cell_type": "markdown",
   "metadata": {
    "id": "7Yltx6EiGNtY"
   },
   "source": [
    "Computing the min/max/median/mode of each of the attributes can be done using either columns functions. However since this is a fairly common task, pandas provides us a high level summary of our data frame via `df.describe()`. Try it below."
   ]
  },
  {
   "cell_type": "code",
   "execution_count": 12,
   "metadata": {
    "id": "Hl7Jc-zcGUOy"
   },
   "outputs": [
    {
     "data": {
      "text/html": [
       "<div>\n",
       "<style scoped>\n",
       "    .dataframe tbody tr th:only-of-type {\n",
       "        vertical-align: middle;\n",
       "    }\n",
       "\n",
       "    .dataframe tbody tr th {\n",
       "        vertical-align: top;\n",
       "    }\n",
       "\n",
       "    .dataframe thead th {\n",
       "        text-align: right;\n",
       "    }\n",
       "</style>\n",
       "<table border=\"1\" class=\"dataframe\">\n",
       "  <thead>\n",
       "    <tr style=\"text-align: right;\">\n",
       "      <th></th>\n",
       "      <th>PassengerId</th>\n",
       "      <th>Survived</th>\n",
       "      <th>Pclass</th>\n",
       "      <th>Age</th>\n",
       "      <th>SibSp</th>\n",
       "      <th>Parch</th>\n",
       "      <th>Fare</th>\n",
       "    </tr>\n",
       "  </thead>\n",
       "  <tbody>\n",
       "    <tr>\n",
       "      <th>count</th>\n",
       "      <td>891.000000</td>\n",
       "      <td>891.000000</td>\n",
       "      <td>891.000000</td>\n",
       "      <td>714.000000</td>\n",
       "      <td>891.000000</td>\n",
       "      <td>891.000000</td>\n",
       "      <td>891.000000</td>\n",
       "    </tr>\n",
       "    <tr>\n",
       "      <th>mean</th>\n",
       "      <td>446.000000</td>\n",
       "      <td>0.383838</td>\n",
       "      <td>2.308642</td>\n",
       "      <td>29.699118</td>\n",
       "      <td>0.523008</td>\n",
       "      <td>0.381594</td>\n",
       "      <td>32.204208</td>\n",
       "    </tr>\n",
       "    <tr>\n",
       "      <th>std</th>\n",
       "      <td>257.353842</td>\n",
       "      <td>0.486592</td>\n",
       "      <td>0.836071</td>\n",
       "      <td>14.526497</td>\n",
       "      <td>1.102743</td>\n",
       "      <td>0.806057</td>\n",
       "      <td>49.693429</td>\n",
       "    </tr>\n",
       "    <tr>\n",
       "      <th>min</th>\n",
       "      <td>1.000000</td>\n",
       "      <td>0.000000</td>\n",
       "      <td>1.000000</td>\n",
       "      <td>0.420000</td>\n",
       "      <td>0.000000</td>\n",
       "      <td>0.000000</td>\n",
       "      <td>0.000000</td>\n",
       "    </tr>\n",
       "    <tr>\n",
       "      <th>25%</th>\n",
       "      <td>223.500000</td>\n",
       "      <td>0.000000</td>\n",
       "      <td>2.000000</td>\n",
       "      <td>20.125000</td>\n",
       "      <td>0.000000</td>\n",
       "      <td>0.000000</td>\n",
       "      <td>7.910400</td>\n",
       "    </tr>\n",
       "    <tr>\n",
       "      <th>50%</th>\n",
       "      <td>446.000000</td>\n",
       "      <td>0.000000</td>\n",
       "      <td>3.000000</td>\n",
       "      <td>28.000000</td>\n",
       "      <td>0.000000</td>\n",
       "      <td>0.000000</td>\n",
       "      <td>14.454200</td>\n",
       "    </tr>\n",
       "    <tr>\n",
       "      <th>75%</th>\n",
       "      <td>668.500000</td>\n",
       "      <td>1.000000</td>\n",
       "      <td>3.000000</td>\n",
       "      <td>38.000000</td>\n",
       "      <td>1.000000</td>\n",
       "      <td>0.000000</td>\n",
       "      <td>31.000000</td>\n",
       "    </tr>\n",
       "    <tr>\n",
       "      <th>max</th>\n",
       "      <td>891.000000</td>\n",
       "      <td>1.000000</td>\n",
       "      <td>3.000000</td>\n",
       "      <td>80.000000</td>\n",
       "      <td>8.000000</td>\n",
       "      <td>6.000000</td>\n",
       "      <td>512.329200</td>\n",
       "    </tr>\n",
       "  </tbody>\n",
       "</table>\n",
       "</div>"
      ],
      "text/plain": [
       "       PassengerId    Survived      Pclass         Age       SibSp  \\\n",
       "count   891.000000  891.000000  891.000000  714.000000  891.000000   \n",
       "mean    446.000000    0.383838    2.308642   29.699118    0.523008   \n",
       "std     257.353842    0.486592    0.836071   14.526497    1.102743   \n",
       "min       1.000000    0.000000    1.000000    0.420000    0.000000   \n",
       "25%     223.500000    0.000000    2.000000   20.125000    0.000000   \n",
       "50%     446.000000    0.000000    3.000000   28.000000    0.000000   \n",
       "75%     668.500000    1.000000    3.000000   38.000000    1.000000   \n",
       "max     891.000000    1.000000    3.000000   80.000000    8.000000   \n",
       "\n",
       "            Parch        Fare  \n",
       "count  891.000000  891.000000  \n",
       "mean     0.381594   32.204208  \n",
       "std      0.806057   49.693429  \n",
       "min      0.000000    0.000000  \n",
       "25%      0.000000    7.910400  \n",
       "50%      0.000000   14.454200  \n",
       "75%      0.000000   31.000000  \n",
       "max      6.000000  512.329200  "
      ]
     },
     "execution_count": 12,
     "metadata": {},
     "output_type": "execute_result"
    }
   ],
   "source": [
    "df.describe()"
   ]
  },
  {
   "cell_type": "markdown",
   "metadata": {
    "id": "Lv2kGs7rHT2A"
   },
   "source": [
    "Why do we not have more columns here? For example, why is there no summary for the `Name` attribute?"
   ]
  },
  {
   "cell_type": "code",
   "execution_count": null,
   "metadata": {
    "id": "WaeNYPdcGXxT"
   },
   "outputs": [],
   "source": [
    "'''there is no summary for these columns as they are of object type'''"
   ]
  }
 ],
 "metadata": {
  "colab": {
   "collapsed_sections": [],
   "name": "PracA_DataExploration.ipynb",
   "provenance": []
  },
  "kernelspec": {
   "display_name": "Python 3",
   "language": "python",
   "name": "python3"
  },
  "language_info": {
   "codemirror_mode": {
    "name": "ipython",
    "version": 3
   },
   "file_extension": ".py",
   "mimetype": "text/x-python",
   "name": "python",
   "nbconvert_exporter": "python",
   "pygments_lexer": "ipython3",
   "version": "3.8.5"
  }
 },
 "nbformat": 4,
 "nbformat_minor": 5
}
