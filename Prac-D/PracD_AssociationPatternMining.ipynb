{
 "cells": [
  {
   "cell_type": "markdown",
   "metadata": {
    "id": "HUQE3Da1tUd7"
   },
   "source": [
    "# Supermarket basket association pattern mining\n",
    "\n",
    "In this question, we perform association pattern mining using the supermarket dataset `supermarket.arff` from the [Weka MOOC](https://www.cs.waikato.ac.nz/ml/weka/courses.html).\n",
    "\n",
    "\n",
    "1. Load the data file `supermarket.arff` into a pandas data frame\n",
    "\n",
    "2. Remove the following attributes \n",
    "  - Department* \n",
    "  - non host support \n",
    "  - Total \n",
    "\n",
    "3.  Select the Apriori algorithm and perform frequent itemset mining with minsup = 0.2 and minconf = 0.8 and find out: \n",
    "  - The numbers of frequent 2-itemsets, and 3-itemsets. \n",
    "  - The best three (2) rules with largest confidence. Examine these rules and describe them in your own words. \n",
    "\n",
    "4. The supermarket manager wishes to boost the sale of fruit and therefore the manager needs to know other itemsets most likely be purchased with fruit to make promotion decisions. \n",
    "  - Using the same minimum support and minimum confidence value. \n",
    "  - List the top three itemsets to report to the supermarket manager. \n",
    "\n",
    "5. Repeat task 3, but using the FP Growth algorithm instead.  \n",
    "  - Compare the rules found. \n",
    "  - Are they consistent? "
   ]
  },
  {
   "cell_type": "markdown",
   "metadata": {
    "id": "sesbe9KEL5tx"
   },
   "source": [
    "## 0 Upgrade mlxtend\n",
    "The default version of `mlxtend` on Google Colaborate is too old for this prac\n",
    "so we must upgrade it. We want something that is at least version 0.18.\n",
    "Note that code statements beginning with `!` are not python code, but system calls. If you are running this in a personal jupyterlab you might have to update this module a different way."
   ]
  },
  {
   "cell_type": "code",
   "execution_count": 1,
   "metadata": {
    "id": "aFBB2RsZf79_"
   },
   "outputs": [
    {
     "name": "stdout",
     "output_type": "stream",
     "text": [
      "Defaulting to user installation because normal site-packages is not writeable\n",
      "Collecting mlxtend>=0.18\n",
      "  Downloading mlxtend-0.18.0-py2.py3-none-any.whl (1.3 MB)\n",
      "\u001b[K     |████████████████████████████████| 1.3 MB 3.0 MB/s eta 0:00:01\n",
      "\u001b[?25hRequirement already satisfied: numpy>=1.16.2 in /Library/Python/3.8/site-packages (from mlxtend>=0.18) (1.20.2)\n",
      "Collecting pandas>=0.24.2\n",
      "  Downloading pandas-1.3.2-cp38-cp38-macosx_10_9_x86_64.whl (11.4 MB)\n",
      "\u001b[K     |████████████████████████████████| 11.4 MB 2.4 MB/s eta 0:00:01\n",
      "\u001b[?25hCollecting joblib>=0.13.2\n",
      "  Downloading joblib-1.0.1-py3-none-any.whl (303 kB)\n",
      "\u001b[K     |████████████████████████████████| 303 kB 1.9 MB/s eta 0:00:01\n",
      "\u001b[?25hCollecting matplotlib>=3.0.0\n",
      "  Downloading matplotlib-3.4.3-cp38-cp38-macosx_10_9_x86_64.whl (7.2 MB)\n",
      "\u001b[K     |████████████████████████████████| 7.2 MB 2.6 MB/s eta 0:00:01\n",
      "\u001b[?25hCollecting scikit-learn>=0.20.3\n",
      "  Downloading scikit_learn-0.24.2-cp38-cp38-macosx_10_13_x86_64.whl (7.2 MB)\n",
      "\u001b[K     |████████████████████████████████| 7.2 MB 5.9 MB/s eta 0:00:01\n",
      "\u001b[?25hRequirement already satisfied: setuptools in /Library/Developer/CommandLineTools/Library/Frameworks/Python3.framework/Versions/3.8/lib/python3.8/site-packages (from mlxtend>=0.18) (41.2.0)\n",
      "Collecting scipy>=1.2.1\n",
      "  Downloading scipy-1.7.1-cp38-cp38-macosx_10_9_x86_64.whl (32.6 MB)\n",
      "\u001b[K     |████████████████████████████████| 32.6 MB 4.1 MB/s eta 0:00:01\n",
      "\u001b[?25hRequirement already satisfied: pyparsing>=2.2.1 in /Library/Python/3.8/site-packages (from matplotlib>=3.0.0->mlxtend>=0.18) (2.4.7)\n",
      "Collecting kiwisolver>=1.0.1\n",
      "  Downloading kiwisolver-1.3.1-cp38-cp38-macosx_10_9_x86_64.whl (61 kB)\n",
      "\u001b[K     |████████████████████████████████| 61 kB 455 kB/s eta 0:00:01\n",
      "\u001b[?25hCollecting pillow>=6.2.0\n",
      "  Downloading Pillow-8.3.1-cp38-cp38-macosx_10_10_x86_64.whl (2.9 MB)\n",
      "\u001b[K     |████████████████████████████████| 2.9 MB 4.5 MB/s eta 0:00:01\n",
      "\u001b[?25hRequirement already satisfied: python-dateutil>=2.7 in /Library/Python/3.8/site-packages (from matplotlib>=3.0.0->mlxtend>=0.18) (2.8.1)\n",
      "Collecting cycler>=0.10\n",
      "  Downloading cycler-0.10.0-py2.py3-none-any.whl (6.5 kB)\n",
      "Requirement already satisfied: six in /Library/Developer/CommandLineTools/Library/Frameworks/Python3.framework/Versions/3.8/lib/python3.8/site-packages (from cycler>=0.10->matplotlib>=3.0.0->mlxtend>=0.18) (1.15.0)\n",
      "Collecting pytz>=2017.3\n",
      "  Downloading pytz-2021.1-py2.py3-none-any.whl (510 kB)\n",
      "\u001b[K     |████████████████████████████████| 510 kB 6.1 MB/s eta 0:00:01\n",
      "\u001b[?25hCollecting threadpoolctl>=2.0.0\n",
      "  Downloading threadpoolctl-2.2.0-py3-none-any.whl (12 kB)\n",
      "Installing collected packages: threadpoolctl, scipy, pytz, pillow, kiwisolver, joblib, cycler, scikit-learn, pandas, matplotlib, mlxtend\n",
      "Successfully installed cycler-0.10.0 joblib-1.0.1 kiwisolver-1.3.1 matplotlib-3.4.3 mlxtend-0.18.0 pandas-1.3.2 pillow-8.3.1 pytz-2021.1 scikit-learn-0.24.2 scipy-1.7.1 threadpoolctl-2.2.0\n",
      "\u001b[33mWARNING: You are using pip version 21.0.1; however, version 21.2.4 is available.\n",
      "You should consider upgrading via the '/Library/Developer/CommandLineTools/usr/bin/python3 -m pip install --upgrade pip' command.\u001b[0m\n"
     ]
    }
   ],
   "source": [
    "\n",
    "! pip install --upgrade 'mlxtend>=0.18'"
   ]
  },
  {
   "cell_type": "code",
   "execution_count": 4,
   "metadata": {
    "id": "uYe47OJWf8h0"
   },
   "outputs": [
    {
     "name": "stdout",
     "output_type": "stream",
     "text": [
      "0.18.0\n"
     ]
    }
   ],
   "source": [
    "# Check we have the right version\n",
    "import mlxtend\n",
    "print(mlxtend.__version__)"
   ]
  },
  {
   "cell_type": "code",
   "execution_count": 5,
   "metadata": {
    "id": "N4nbxT6vtBd9"
   },
   "outputs": [],
   "source": [
    "import pandas as pd\n",
    "from scipy.io import arff\n",
    "import urllib\n",
    "import urllib.request\n",
    "import numpy as np"
   ]
  },
  {
   "cell_type": "markdown",
   "metadata": {
    "id": "l-jloVtsMriH"
   },
   "source": [
    "## 1 Load the data file `supermarket.arff` into a pandas data frame\n",
    "\n",
    "We did this in a previous prac: download the file into your working directory using `urrlib`, load it using `scipy`, and then convert to a `pandas` data frame. The file on the Weka website has a few problems that we need to work around, so I've provided a cleaned version of the data on [GitHub](https://raw.githubusercontent.com/PaulHancock/COMP5009_pracs/main/data/supermarket.arff)."
   ]
  },
  {
   "cell_type": "code",
   "execution_count": 6,
   "metadata": {
    "id": "lHP3pP7ms034"
   },
   "outputs": [
    {
     "data": {
      "text/plain": [
       "('supermarket.arff', <http.client.HTTPMessage at 0x7f817801eaf0>)"
      ]
     },
     "execution_count": 6,
     "metadata": {},
     "output_type": "execute_result"
    }
   ],
   "source": [
    "data_url = 'https://raw.githubusercontent.com/PaulHancock/COMP5009_pracs/main/data/supermarket.arff'\n",
    "file_name = 'supermarket.arff'\n",
    "urllib.request.urlretrieve(data_url, file_name)"
   ]
  },
  {
   "cell_type": "code",
   "execution_count": 7,
   "metadata": {
    "id": "GkG2OE8ptOtk"
   },
   "outputs": [],
   "source": [
    "# load the data from arff format\n",
    "data = arff.loadarff('supermarket.arff')\n",
    "raw_df = pd.DataFrame(data[0])\n",
    "# The data table is 1 and 0, but we want it to be boolean (true/false) so we convert\n",
    "df = raw_df.astype(bool)"
   ]
  },
  {
   "cell_type": "code",
   "execution_count": 8,
   "metadata": {
    "id": "3Wbo3P65tRfR"
   },
   "outputs": [
    {
     "data": {
      "text/html": [
       "<div>\n",
       "<style scoped>\n",
       "    .dataframe tbody tr th:only-of-type {\n",
       "        vertical-align: middle;\n",
       "    }\n",
       "\n",
       "    .dataframe tbody tr th {\n",
       "        vertical-align: top;\n",
       "    }\n",
       "\n",
       "    .dataframe thead th {\n",
       "        text-align: right;\n",
       "    }\n",
       "</style>\n",
       "<table border=\"1\" class=\"dataframe\">\n",
       "  <thead>\n",
       "    <tr style=\"text-align: right;\">\n",
       "      <th></th>\n",
       "      <th>department1</th>\n",
       "      <th>department2</th>\n",
       "      <th>department3</th>\n",
       "      <th>department4</th>\n",
       "      <th>department5</th>\n",
       "      <th>department6</th>\n",
       "      <th>department7</th>\n",
       "      <th>department8</th>\n",
       "      <th>department9</th>\n",
       "      <th>grocery misc</th>\n",
       "      <th>...</th>\n",
       "      <th>department208</th>\n",
       "      <th>department209</th>\n",
       "      <th>department210</th>\n",
       "      <th>department211</th>\n",
       "      <th>department212</th>\n",
       "      <th>department213</th>\n",
       "      <th>department214</th>\n",
       "      <th>department215</th>\n",
       "      <th>department216</th>\n",
       "      <th>total</th>\n",
       "    </tr>\n",
       "  </thead>\n",
       "  <tbody>\n",
       "    <tr>\n",
       "      <th>count</th>\n",
       "      <td>4627</td>\n",
       "      <td>4627</td>\n",
       "      <td>4627</td>\n",
       "      <td>4627</td>\n",
       "      <td>4627</td>\n",
       "      <td>4627</td>\n",
       "      <td>4627</td>\n",
       "      <td>4627</td>\n",
       "      <td>4627</td>\n",
       "      <td>4627</td>\n",
       "      <td>...</td>\n",
       "      <td>4627</td>\n",
       "      <td>4627</td>\n",
       "      <td>4627</td>\n",
       "      <td>4627</td>\n",
       "      <td>4627</td>\n",
       "      <td>4627</td>\n",
       "      <td>4627</td>\n",
       "      <td>4627</td>\n",
       "      <td>4627</td>\n",
       "      <td>4627</td>\n",
       "    </tr>\n",
       "    <tr>\n",
       "      <th>unique</th>\n",
       "      <td>2</td>\n",
       "      <td>2</td>\n",
       "      <td>2</td>\n",
       "      <td>2</td>\n",
       "      <td>2</td>\n",
       "      <td>2</td>\n",
       "      <td>2</td>\n",
       "      <td>1</td>\n",
       "      <td>2</td>\n",
       "      <td>2</td>\n",
       "      <td>...</td>\n",
       "      <td>1</td>\n",
       "      <td>1</td>\n",
       "      <td>2</td>\n",
       "      <td>2</td>\n",
       "      <td>2</td>\n",
       "      <td>2</td>\n",
       "      <td>1</td>\n",
       "      <td>1</td>\n",
       "      <td>1</td>\n",
       "      <td>1</td>\n",
       "    </tr>\n",
       "    <tr>\n",
       "      <th>top</th>\n",
       "      <td>False</td>\n",
       "      <td>False</td>\n",
       "      <td>False</td>\n",
       "      <td>False</td>\n",
       "      <td>False</td>\n",
       "      <td>False</td>\n",
       "      <td>False</td>\n",
       "      <td>False</td>\n",
       "      <td>False</td>\n",
       "      <td>False</td>\n",
       "      <td>...</td>\n",
       "      <td>False</td>\n",
       "      <td>False</td>\n",
       "      <td>False</td>\n",
       "      <td>False</td>\n",
       "      <td>False</td>\n",
       "      <td>False</td>\n",
       "      <td>False</td>\n",
       "      <td>False</td>\n",
       "      <td>False</td>\n",
       "      <td>True</td>\n",
       "    </tr>\n",
       "    <tr>\n",
       "      <th>freq</th>\n",
       "      <td>3580</td>\n",
       "      <td>4496</td>\n",
       "      <td>4537</td>\n",
       "      <td>4543</td>\n",
       "      <td>4452</td>\n",
       "      <td>4625</td>\n",
       "      <td>4560</td>\n",
       "      <td>4627</td>\n",
       "      <td>4545</td>\n",
       "      <td>4449</td>\n",
       "      <td>...</td>\n",
       "      <td>4627</td>\n",
       "      <td>4627</td>\n",
       "      <td>4436</td>\n",
       "      <td>4420</td>\n",
       "      <td>4589</td>\n",
       "      <td>4605</td>\n",
       "      <td>4627</td>\n",
       "      <td>4627</td>\n",
       "      <td>4627</td>\n",
       "      <td>4627</td>\n",
       "    </tr>\n",
       "  </tbody>\n",
       "</table>\n",
       "<p>4 rows × 217 columns</p>\n",
       "</div>"
      ],
      "text/plain": [
       "       department1 department2 department3 department4 department5  \\\n",
       "count         4627        4627        4627        4627        4627   \n",
       "unique           2           2           2           2           2   \n",
       "top          False       False       False       False       False   \n",
       "freq          3580        4496        4537        4543        4452   \n",
       "\n",
       "       department6 department7 department8 department9 grocery misc  ...  \\\n",
       "count         4627        4627        4627        4627         4627  ...   \n",
       "unique           2           2           1           2            2  ...   \n",
       "top          False       False       False       False        False  ...   \n",
       "freq          4625        4560        4627        4545         4449  ...   \n",
       "\n",
       "       department208 department209 department210 department211 department212  \\\n",
       "count           4627          4627          4627          4627          4627   \n",
       "unique             1             1             2             2             2   \n",
       "top            False         False         False         False         False   \n",
       "freq            4627          4627          4436          4420          4589   \n",
       "\n",
       "       department213 department214 department215 department216 total  \n",
       "count           4627          4627          4627          4627  4627  \n",
       "unique             2             1             1             1     1  \n",
       "top            False         False         False         False  True  \n",
       "freq            4605          4627          4627          4627  4627  \n",
       "\n",
       "[4 rows x 217 columns]"
      ]
     },
     "execution_count": 8,
     "metadata": {},
     "output_type": "execute_result"
    }
   ],
   "source": [
    "df.describe()"
   ]
  },
  {
   "cell_type": "markdown",
   "metadata": {
    "id": "A-i7Z3PwQkiB"
   },
   "source": [
    "## 2 Remove attributes \n",
    "Remove the following attributes as they have been deemed to be not-useful:\n",
    "  - Department* \n",
    "  - non host support \n",
    "  - Total \n"
   ]
  },
  {
   "cell_type": "code",
   "execution_count": 10,
   "metadata": {
    "id": "zz4kpMryQwcv"
   },
   "outputs": [
    {
     "name": "stdout",
     "output_type": "stream",
     "text": [
      "The folloiwing columns will be dropped:\n",
      "['non host support', 'total', 'department1', 'department2', 'department3', 'department4', 'department5', 'department6', 'department7', 'department8', 'department9', 'department11', 'department57', 'department70', 'department79', 'department80', 'department81', 'department88', 'department89', 'department98', 'department100', 'department101', 'department102', 'department107', 'department108', 'department109', 'department110', 'department111', 'department112', 'department113', 'department114', 'department116', 'department117', 'department118', 'department119', 'department120', 'department122', 'department123', 'department124', 'department125', 'department126', 'department127', 'department128', 'department129', 'department130', 'department137', 'department138', 'department139', 'department140', 'department141', 'department142', 'department143', 'department144', 'department145', 'department146', 'department147', 'department148', 'department149', 'department150', 'department151', 'department152', 'department153', 'department154', 'department155', 'department156', 'department157', 'department158', 'department159', 'department160', 'department161', 'department162', 'department163', 'department164', 'department165', 'department166', 'department167', 'department168', 'department169', 'department170', 'department171', 'department172', 'department173', 'department174', 'department175', 'department176', 'department177', 'department178', 'department179', 'department189', 'department192', 'department193', 'department194', 'department195', 'department196', 'department197', 'department198', 'department199', 'department201', 'department202', 'department203', 'department204', 'department205', 'department206', 'department207', 'department208', 'department209', 'department210', 'department211', 'department212', 'department213', 'department214', 'department215', 'department216']\n"
     ]
    }
   ],
   "source": [
    "cols_to_drop = ['non host support', 'total']\n",
    "# Instead of hand writing all the names that start with department, use a loop\n",
    "for col in df.columns:\n",
    "  if col.startswith('department'):\n",
    "    cols_to_drop.append(col)\n",
    "print(\"The folloiwing columns will be dropped:\")\n",
    "print(cols_to_drop)"
   ]
  },
  {
   "cell_type": "code",
   "execution_count": 11,
   "metadata": {
    "id": "qDaU8qX_RSVN"
   },
   "outputs": [],
   "source": [
    "df = df.drop(columns=cols_to_drop)"
   ]
  },
  {
   "cell_type": "code",
   "execution_count": 15,
   "metadata": {
    "id": "c2cp1xD1RaPr"
   },
   "outputs": [
    {
     "data": {
      "text/html": [
       "<div>\n",
       "<style scoped>\n",
       "    .dataframe tbody tr th:only-of-type {\n",
       "        vertical-align: middle;\n",
       "    }\n",
       "\n",
       "    .dataframe tbody tr th {\n",
       "        vertical-align: top;\n",
       "    }\n",
       "\n",
       "    .dataframe thead th {\n",
       "        text-align: right;\n",
       "    }\n",
       "</style>\n",
       "<table border=\"1\" class=\"dataframe\">\n",
       "  <thead>\n",
       "    <tr style=\"text-align: right;\">\n",
       "      <th></th>\n",
       "      <th>grocery misc</th>\n",
       "      <th>baby needs</th>\n",
       "      <th>bread and cake</th>\n",
       "      <th>baking needs</th>\n",
       "      <th>coupons</th>\n",
       "      <th>juice-sat-cord-ms</th>\n",
       "      <th>tea</th>\n",
       "      <th>biscuits</th>\n",
       "      <th>canned fish-meat</th>\n",
       "      <th>canned fruit</th>\n",
       "      <th>...</th>\n",
       "      <th>casks red wine</th>\n",
       "      <th>750ml white nz</th>\n",
       "      <th>750ml red nz</th>\n",
       "      <th>750ml white imp</th>\n",
       "      <th>750ml red imp</th>\n",
       "      <th>sparkling nz</th>\n",
       "      <th>sparkling imp</th>\n",
       "      <th>brew kits/accesry</th>\n",
       "      <th>port and sherry</th>\n",
       "      <th>ctrled label wine</th>\n",
       "    </tr>\n",
       "  </thead>\n",
       "  <tbody>\n",
       "    <tr>\n",
       "      <th>count</th>\n",
       "      <td>4627</td>\n",
       "      <td>4627</td>\n",
       "      <td>4627</td>\n",
       "      <td>4627</td>\n",
       "      <td>4627</td>\n",
       "      <td>4627</td>\n",
       "      <td>4627</td>\n",
       "      <td>4627</td>\n",
       "      <td>4627</td>\n",
       "      <td>4627</td>\n",
       "      <td>...</td>\n",
       "      <td>4627</td>\n",
       "      <td>4627</td>\n",
       "      <td>4627</td>\n",
       "      <td>4627</td>\n",
       "      <td>4627</td>\n",
       "      <td>4627</td>\n",
       "      <td>4627</td>\n",
       "      <td>4627</td>\n",
       "      <td>4627</td>\n",
       "      <td>4627</td>\n",
       "    </tr>\n",
       "    <tr>\n",
       "      <th>unique</th>\n",
       "      <td>2</td>\n",
       "      <td>2</td>\n",
       "      <td>2</td>\n",
       "      <td>2</td>\n",
       "      <td>1</td>\n",
       "      <td>2</td>\n",
       "      <td>2</td>\n",
       "      <td>2</td>\n",
       "      <td>2</td>\n",
       "      <td>2</td>\n",
       "      <td>...</td>\n",
       "      <td>2</td>\n",
       "      <td>2</td>\n",
       "      <td>2</td>\n",
       "      <td>2</td>\n",
       "      <td>2</td>\n",
       "      <td>2</td>\n",
       "      <td>2</td>\n",
       "      <td>1</td>\n",
       "      <td>2</td>\n",
       "      <td>1</td>\n",
       "    </tr>\n",
       "    <tr>\n",
       "      <th>top</th>\n",
       "      <td>False</td>\n",
       "      <td>False</td>\n",
       "      <td>True</td>\n",
       "      <td>True</td>\n",
       "      <td>False</td>\n",
       "      <td>True</td>\n",
       "      <td>False</td>\n",
       "      <td>True</td>\n",
       "      <td>False</td>\n",
       "      <td>False</td>\n",
       "      <td>...</td>\n",
       "      <td>False</td>\n",
       "      <td>False</td>\n",
       "      <td>False</td>\n",
       "      <td>False</td>\n",
       "      <td>False</td>\n",
       "      <td>False</td>\n",
       "      <td>False</td>\n",
       "      <td>False</td>\n",
       "      <td>False</td>\n",
       "      <td>False</td>\n",
       "    </tr>\n",
       "    <tr>\n",
       "      <th>freq</th>\n",
       "      <td>4449</td>\n",
       "      <td>4008</td>\n",
       "      <td>3330</td>\n",
       "      <td>2795</td>\n",
       "      <td>4627</td>\n",
       "      <td>2463</td>\n",
       "      <td>3731</td>\n",
       "      <td>2605</td>\n",
       "      <td>3686</td>\n",
       "      <td>3344</td>\n",
       "      <td>...</td>\n",
       "      <td>4576</td>\n",
       "      <td>4346</td>\n",
       "      <td>4536</td>\n",
       "      <td>4528</td>\n",
       "      <td>4530</td>\n",
       "      <td>4498</td>\n",
       "      <td>4604</td>\n",
       "      <td>4627</td>\n",
       "      <td>4602</td>\n",
       "      <td>4627</td>\n",
       "    </tr>\n",
       "  </tbody>\n",
       "</table>\n",
       "<p>4 rows × 104 columns</p>\n",
       "</div>"
      ],
      "text/plain": [
       "       grocery misc baby needs bread and cake baking needs coupons  \\\n",
       "count          4627       4627           4627         4627    4627   \n",
       "unique            2          2              2            2       1   \n",
       "top           False      False           True         True   False   \n",
       "freq           4449       4008           3330         2795    4627   \n",
       "\n",
       "       juice-sat-cord-ms    tea biscuits canned fish-meat canned fruit  ...  \\\n",
       "count               4627   4627     4627             4627         4627  ...   \n",
       "unique                 2      2        2                2            2  ...   \n",
       "top                 True  False     True            False        False  ...   \n",
       "freq                2463   3731     2605             3686         3344  ...   \n",
       "\n",
       "       casks red wine 750ml white nz 750ml red nz 750ml white imp  \\\n",
       "count            4627           4627         4627            4627   \n",
       "unique              2              2            2               2   \n",
       "top             False          False        False           False   \n",
       "freq             4576           4346         4536            4528   \n",
       "\n",
       "       750ml red imp sparkling nz sparkling imp brew kits/accesry  \\\n",
       "count           4627         4627          4627              4627   \n",
       "unique             2            2             2                 1   \n",
       "top            False        False         False             False   \n",
       "freq            4530         4498          4604              4627   \n",
       "\n",
       "       port and sherry ctrled label wine  \n",
       "count             4627              4627  \n",
       "unique               2                 1  \n",
       "top              False             False  \n",
       "freq              4602              4627  \n",
       "\n",
       "[4 rows x 104 columns]"
      ]
     },
     "execution_count": 15,
     "metadata": {},
     "output_type": "execute_result"
    }
   ],
   "source": [
    "# confirm we have dropped the columns by showing a summary, we should have 104 cols left, all with descriptive names.\n",
    "df.describe()"
   ]
  },
  {
   "cell_type": "markdown",
   "metadata": {
    "id": "ND5nK5G2Rq1i"
   },
   "source": [
    "## 3 Select the Apriori algorithm \n",
    "\n",
    "Select the Apriori algorithm and perform frequent itemset mining with `minsup = 0.2` and `minconf = 0.8` and find out:\n",
    "\n",
    "- The numbers of frequent 2-itemsets, and 3-itemsets.\n",
    "- The best three rules with largest confidence. Examine these rules and describe them in your own words."
   ]
  },
  {
   "cell_type": "markdown",
   "metadata": {
    "id": "E_wQ33C0R4G_"
   },
   "source": [
    "The `apriori` algorithm is found in the `mlxtend` package, so we import it along with the `association_rules` function."
   ]
  },
  {
   "cell_type": "code",
   "execution_count": 16,
   "metadata": {
    "id": "bc2QfjzYtrca"
   },
   "outputs": [],
   "source": [
    "from mlxtend.frequent_patterns import apriori, association_rules"
   ]
  },
  {
   "cell_type": "code",
   "execution_count": 17,
   "metadata": {
    "id": "HH8DMnP0ve2r"
   },
   "outputs": [],
   "source": [
    "ap_itemsets = apriori(df, \n",
    "                      min_support=0.2,\n",
    "                      use_colnames=True)"
   ]
  },
  {
   "cell_type": "markdown",
   "metadata": {
    "id": "qXljuPEcWMrY"
   },
   "source": [
    "Now that we have our itemsets we want to chose those with `2<=k<=3`.\n",
    "This isn't explicitly stored within our dataframe so we'll make a new column which is just the value of `len(itemsets)`."
   ]
  },
  {
   "cell_type": "code",
   "execution_count": 18,
   "metadata": {
    "id": "_g6y3hvZYqIj"
   },
   "outputs": [],
   "source": [
    "def find_k(row):\n",
    "  \"\"\"Return the number of items in the itemset\"\"\"\n",
    "  return len(row.itemsets)\n",
    "\n",
    "# Create a new column which counts the number of items in the itemset\n",
    "ap_itemsets['k'] = ap_itemsets.apply(find_k, # Apply the function `find_k`\n",
    "                                     axis=1) # apply the function to each row"
   ]
  },
  {
   "cell_type": "code",
   "execution_count": 21,
   "metadata": {
    "id": "x2Ksn907Wa7L"
   },
   "outputs": [
    {
     "name": "stdout",
     "output_type": "stream",
     "text": [
      "There are 182 itemsets with k=2\n",
      "There are 252 itemsets with k=3\n",
      "There are 77 itemsets with k=4\n",
      "There are 2 itemsets with k=5\n"
     ]
    }
   ],
   "source": [
    "k2_itemsets = np.sum(ap_itemsets['k'] == 2)\n",
    "k3_itemsets = np.sum(ap_itemsets['k'] == 3)\n",
    "k4_itemsets = np.sum(ap_itemsets['k'] == 4)\n",
    "k5_itemsets = np.sum(ap_itemsets['k'] == 5)\n",
    "print(f\"There are {k2_itemsets} itemsets with k=2\")\n",
    "print(f\"There are {k3_itemsets} itemsets with k=3\")\n",
    "print(f\"There are {k4_itemsets} itemsets with k=4\")\n",
    "print(f\"There are {k5_itemsets} itemsets with k=5\")"
   ]
  },
  {
   "cell_type": "code",
   "execution_count": 24,
   "metadata": {
    "id": "ijC8V8UfLFZ6"
   },
   "outputs": [
    {
     "data": {
      "text/html": [
       "<div>\n",
       "<style scoped>\n",
       "    .dataframe tbody tr th:only-of-type {\n",
       "        vertical-align: middle;\n",
       "    }\n",
       "\n",
       "    .dataframe tbody tr th {\n",
       "        vertical-align: top;\n",
       "    }\n",
       "\n",
       "    .dataframe thead th {\n",
       "        text-align: right;\n",
       "    }\n",
       "</style>\n",
       "<table border=\"1\" class=\"dataframe\">\n",
       "  <thead>\n",
       "    <tr style=\"text-align: right;\">\n",
       "      <th></th>\n",
       "      <th>support</th>\n",
       "      <th>itemsets</th>\n",
       "      <th>k</th>\n",
       "    </tr>\n",
       "  </thead>\n",
       "  <tbody>\n",
       "    <tr>\n",
       "      <th>0</th>\n",
       "      <td>0.719689</td>\n",
       "      <td>(bread and cake)</td>\n",
       "      <td>1</td>\n",
       "    </tr>\n",
       "    <tr>\n",
       "      <th>28</th>\n",
       "      <td>0.640156</td>\n",
       "      <td>(fruit)</td>\n",
       "      <td>1</td>\n",
       "    </tr>\n",
       "    <tr>\n",
       "      <th>29</th>\n",
       "      <td>0.639939</td>\n",
       "      <td>(vegetables)</td>\n",
       "      <td>1</td>\n",
       "    </tr>\n",
       "    <tr>\n",
       "      <th>23</th>\n",
       "      <td>0.635185</td>\n",
       "      <td>(milk-cream)</td>\n",
       "      <td>1</td>\n",
       "    </tr>\n",
       "    <tr>\n",
       "      <th>1</th>\n",
       "      <td>0.604063</td>\n",
       "      <td>(baking needs)</td>\n",
       "      <td>1</td>\n",
       "    </tr>\n",
       "    <tr>\n",
       "      <th>12</th>\n",
       "      <td>0.587206</td>\n",
       "      <td>(frozen foods)</td>\n",
       "      <td>1</td>\n",
       "    </tr>\n",
       "    <tr>\n",
       "      <th>3</th>\n",
       "      <td>0.563000</td>\n",
       "      <td>(biscuits)</td>\n",
       "      <td>1</td>\n",
       "    </tr>\n",
       "    <tr>\n",
       "      <th>2</th>\n",
       "      <td>0.532310</td>\n",
       "      <td>(juice-sat-cord-ms)</td>\n",
       "      <td>1</td>\n",
       "    </tr>\n",
       "    <tr>\n",
       "      <th>51</th>\n",
       "      <td>0.505079</td>\n",
       "      <td>(bread and cake, milk-cream)</td>\n",
       "      <td>2</td>\n",
       "    </tr>\n",
       "    <tr>\n",
       "      <th>16</th>\n",
       "      <td>0.503566</td>\n",
       "      <td>(party snack foods)</td>\n",
       "      <td>1</td>\n",
       "    </tr>\n",
       "  </tbody>\n",
       "</table>\n",
       "</div>"
      ],
      "text/plain": [
       "     support                      itemsets  k\n",
       "0   0.719689              (bread and cake)  1\n",
       "28  0.640156                       (fruit)  1\n",
       "29  0.639939                  (vegetables)  1\n",
       "23  0.635185                  (milk-cream)  1\n",
       "1   0.604063                (baking needs)  1\n",
       "12  0.587206                (frozen foods)  1\n",
       "3   0.563000                    (biscuits)  1\n",
       "2   0.532310           (juice-sat-cord-ms)  1\n",
       "51  0.505079  (bread and cake, milk-cream)  2\n",
       "16  0.503566           (party snack foods)  1"
      ]
     },
     "execution_count": 24,
     "metadata": {},
     "output_type": "execute_result"
    }
   ],
   "source": [
    "# Now lets see the top 10 itemsets\n",
    "ap_itemsets.sort_values(by = 'support', ascending = False).head(10)"
   ]
  },
  {
   "cell_type": "markdown",
   "metadata": {
    "id": "ZMcj28c4LQkz"
   },
   "source": [
    "Note that the top 10 itemsets are all 1-itemsets. Is this surprising to you?"
   ]
  },
  {
   "cell_type": "markdown",
   "metadata": {
    "id": "ndL2KS9eSsUM"
   },
   "source": [
    "We use these itemsets to generate association rules with a minimum confidence of 0.8."
   ]
  },
  {
   "cell_type": "code",
   "execution_count": 25,
   "metadata": {
    "id": "Ii2jSPGsvoms"
   },
   "outputs": [],
   "source": [
    "ap_rules = association_rules(ap_itemsets, \n",
    "                             metric='confidence', \n",
    "                             min_threshold=0.8)"
   ]
  },
  {
   "cell_type": "code",
   "execution_count": 26,
   "metadata": {
    "id": "3wmmvgHB4ywa"
   },
   "outputs": [
    {
     "data": {
      "text/html": [
       "<div>\n",
       "<style scoped>\n",
       "    .dataframe tbody tr th:only-of-type {\n",
       "        vertical-align: middle;\n",
       "    }\n",
       "\n",
       "    .dataframe tbody tr th {\n",
       "        vertical-align: top;\n",
       "    }\n",
       "\n",
       "    .dataframe thead th {\n",
       "        text-align: right;\n",
       "    }\n",
       "</style>\n",
       "<table border=\"1\" class=\"dataframe\">\n",
       "  <thead>\n",
       "    <tr style=\"text-align: right;\">\n",
       "      <th></th>\n",
       "      <th>antecedents</th>\n",
       "      <th>consequents</th>\n",
       "      <th>antecedent support</th>\n",
       "      <th>consequent support</th>\n",
       "      <th>support</th>\n",
       "      <th>confidence</th>\n",
       "      <th>lift</th>\n",
       "      <th>leverage</th>\n",
       "      <th>conviction</th>\n",
       "    </tr>\n",
       "  </thead>\n",
       "  <tbody>\n",
       "    <tr>\n",
       "      <th>0</th>\n",
       "      <td>(canned fruit)</td>\n",
       "      <td>(bread and cake)</td>\n",
       "      <td>0.277285</td>\n",
       "      <td>0.719689</td>\n",
       "      <td>0.224768</td>\n",
       "      <td>0.810600</td>\n",
       "      <td>1.126320</td>\n",
       "      <td>0.025208</td>\n",
       "      <td>1.479997</td>\n",
       "    </tr>\n",
       "    <tr>\n",
       "      <th>1</th>\n",
       "      <td>(jams-spreads)</td>\n",
       "      <td>(bread and cake)</td>\n",
       "      <td>0.276205</td>\n",
       "      <td>0.719689</td>\n",
       "      <td>0.221958</td>\n",
       "      <td>0.803599</td>\n",
       "      <td>1.116593</td>\n",
       "      <td>0.023177</td>\n",
       "      <td>1.427242</td>\n",
       "    </tr>\n",
       "    <tr>\n",
       "      <th>2</th>\n",
       "      <td>(margarine)</td>\n",
       "      <td>(bread and cake)</td>\n",
       "      <td>0.494489</td>\n",
       "      <td>0.719689</td>\n",
       "      <td>0.395721</td>\n",
       "      <td>0.800262</td>\n",
       "      <td>1.111956</td>\n",
       "      <td>0.039843</td>\n",
       "      <td>1.403396</td>\n",
       "    </tr>\n",
       "    <tr>\n",
       "      <th>3</th>\n",
       "      <td>(small goods)</td>\n",
       "      <td>(bread and cake)</td>\n",
       "      <td>0.241193</td>\n",
       "      <td>0.719689</td>\n",
       "      <td>0.201426</td>\n",
       "      <td>0.835125</td>\n",
       "      <td>1.160398</td>\n",
       "      <td>0.027843</td>\n",
       "      <td>1.700148</td>\n",
       "    </tr>\n",
       "    <tr>\n",
       "      <th>4</th>\n",
       "      <td>(biscuits, baking needs)</td>\n",
       "      <td>(bread and cake)</td>\n",
       "      <td>0.381241</td>\n",
       "      <td>0.719689</td>\n",
       "      <td>0.314675</td>\n",
       "      <td>0.825397</td>\n",
       "      <td>1.146880</td>\n",
       "      <td>0.040300</td>\n",
       "      <td>1.605419</td>\n",
       "    </tr>\n",
       "  </tbody>\n",
       "</table>\n",
       "</div>"
      ],
      "text/plain": [
       "                antecedents       consequents  antecedent support  \\\n",
       "0            (canned fruit)  (bread and cake)            0.277285   \n",
       "1            (jams-spreads)  (bread and cake)            0.276205   \n",
       "2               (margarine)  (bread and cake)            0.494489   \n",
       "3             (small goods)  (bread and cake)            0.241193   \n",
       "4  (biscuits, baking needs)  (bread and cake)            0.381241   \n",
       "\n",
       "   consequent support   support  confidence      lift  leverage  conviction  \n",
       "0            0.719689  0.224768    0.810600  1.126320  0.025208    1.479997  \n",
       "1            0.719689  0.221958    0.803599  1.116593  0.023177    1.427242  \n",
       "2            0.719689  0.395721    0.800262  1.111956  0.039843    1.403396  \n",
       "3            0.719689  0.201426    0.835125  1.160398  0.027843    1.700148  \n",
       "4            0.719689  0.314675    0.825397  1.146880  0.040300    1.605419  "
      ]
     },
     "execution_count": 26,
     "metadata": {},
     "output_type": "execute_result"
    }
   ],
   "source": [
    "ap_rules.head()"
   ]
  },
  {
   "cell_type": "markdown",
   "metadata": {
    "id": "69xFyGBlTL1u"
   },
   "source": [
    "Note that the rules above are not sorted by confidence. We should do that ourselves by using the `sort_values` function."
   ]
  },
  {
   "cell_type": "code",
   "execution_count": 27,
   "metadata": {
    "id": "KflkW0vSS_J3"
   },
   "outputs": [
    {
     "data": {
      "text/html": [
       "<div>\n",
       "<style scoped>\n",
       "    .dataframe tbody tr th:only-of-type {\n",
       "        vertical-align: middle;\n",
       "    }\n",
       "\n",
       "    .dataframe tbody tr th {\n",
       "        vertical-align: top;\n",
       "    }\n",
       "\n",
       "    .dataframe thead th {\n",
       "        text-align: right;\n",
       "    }\n",
       "</style>\n",
       "<table border=\"1\" class=\"dataframe\">\n",
       "  <thead>\n",
       "    <tr style=\"text-align: right;\">\n",
       "      <th></th>\n",
       "      <th>antecedents</th>\n",
       "      <th>consequents</th>\n",
       "      <th>antecedent support</th>\n",
       "      <th>consequent support</th>\n",
       "      <th>support</th>\n",
       "      <th>confidence</th>\n",
       "      <th>lift</th>\n",
       "      <th>leverage</th>\n",
       "      <th>conviction</th>\n",
       "    </tr>\n",
       "  </thead>\n",
       "  <tbody>\n",
       "    <tr>\n",
       "      <th>177</th>\n",
       "      <td>(biscuits, vegetables, frozen foods, fruit)</td>\n",
       "      <td>(bread and cake)</td>\n",
       "      <td>0.224552</td>\n",
       "      <td>0.719689</td>\n",
       "      <td>0.200778</td>\n",
       "      <td>0.894129</td>\n",
       "      <td>1.242383</td>\n",
       "      <td>0.039171</td>\n",
       "      <td>2.647667</td>\n",
       "    </tr>\n",
       "    <tr>\n",
       "      <th>139</th>\n",
       "      <td>(biscuits, fruit, margarine)</td>\n",
       "      <td>(bread and cake)</td>\n",
       "      <td>0.231900</td>\n",
       "      <td>0.719689</td>\n",
       "      <td>0.202723</td>\n",
       "      <td>0.874185</td>\n",
       "      <td>1.214670</td>\n",
       "      <td>0.035828</td>\n",
       "      <td>2.227955</td>\n",
       "    </tr>\n",
       "    <tr>\n",
       "      <th>132</th>\n",
       "      <td>(biscuits, fruit, frozen foods)</td>\n",
       "      <td>(bread and cake)</td>\n",
       "      <td>0.282905</td>\n",
       "      <td>0.719689</td>\n",
       "      <td>0.247028</td>\n",
       "      <td>0.873186</td>\n",
       "      <td>1.213282</td>\n",
       "      <td>0.043425</td>\n",
       "      <td>2.210406</td>\n",
       "    </tr>\n",
       "    <tr>\n",
       "      <th>138</th>\n",
       "      <td>(biscuits, vegetables, milk-cream)</td>\n",
       "      <td>(bread and cake)</td>\n",
       "      <td>0.267128</td>\n",
       "      <td>0.719689</td>\n",
       "      <td>0.232332</td>\n",
       "      <td>0.869741</td>\n",
       "      <td>1.208496</td>\n",
       "      <td>0.040083</td>\n",
       "      <td>2.151954</td>\n",
       "    </tr>\n",
       "    <tr>\n",
       "      <th>117</th>\n",
       "      <td>(baking needs, margarine, fruit)</td>\n",
       "      <td>(bread and cake)</td>\n",
       "      <td>0.244003</td>\n",
       "      <td>0.719689</td>\n",
       "      <td>0.212016</td>\n",
       "      <td>0.868911</td>\n",
       "      <td>1.207342</td>\n",
       "      <td>0.036410</td>\n",
       "      <td>2.138320</td>\n",
       "    </tr>\n",
       "    <tr>\n",
       "      <th>...</th>\n",
       "      <td>...</td>\n",
       "      <td>...</td>\n",
       "      <td>...</td>\n",
       "      <td>...</td>\n",
       "      <td>...</td>\n",
       "      <td>...</td>\n",
       "      <td>...</td>\n",
       "      <td>...</td>\n",
       "      <td>...</td>\n",
       "    </tr>\n",
       "    <tr>\n",
       "      <th>154</th>\n",
       "      <td>(fruit, frozen foods, bread and cake)</td>\n",
       "      <td>(vegetables)</td>\n",
       "      <td>0.334558</td>\n",
       "      <td>0.639939</td>\n",
       "      <td>0.268424</td>\n",
       "      <td>0.802326</td>\n",
       "      <td>1.253752</td>\n",
       "      <td>0.054328</td>\n",
       "      <td>1.821483</td>\n",
       "    </tr>\n",
       "    <tr>\n",
       "      <th>153</th>\n",
       "      <td>(vegetables, frozen foods, bread and cake)</td>\n",
       "      <td>(fruit)</td>\n",
       "      <td>0.334558</td>\n",
       "      <td>0.640156</td>\n",
       "      <td>0.268424</td>\n",
       "      <td>0.802326</td>\n",
       "      <td>1.253329</td>\n",
       "      <td>0.054255</td>\n",
       "      <td>1.820389</td>\n",
       "    </tr>\n",
       "    <tr>\n",
       "      <th>91</th>\n",
       "      <td>(breakfast food, vegetables)</td>\n",
       "      <td>(fruit)</td>\n",
       "      <td>0.275989</td>\n",
       "      <td>0.640156</td>\n",
       "      <td>0.221310</td>\n",
       "      <td>0.801879</td>\n",
       "      <td>1.252632</td>\n",
       "      <td>0.044634</td>\n",
       "      <td>1.816290</td>\n",
       "    </tr>\n",
       "    <tr>\n",
       "      <th>173</th>\n",
       "      <td>(vegetables, frozen foods, milk-cream)</td>\n",
       "      <td>(fruit)</td>\n",
       "      <td>0.285066</td>\n",
       "      <td>0.640156</td>\n",
       "      <td>0.228442</td>\n",
       "      <td>0.801365</td>\n",
       "      <td>1.251828</td>\n",
       "      <td>0.045955</td>\n",
       "      <td>1.811583</td>\n",
       "    </tr>\n",
       "    <tr>\n",
       "      <th>2</th>\n",
       "      <td>(margarine)</td>\n",
       "      <td>(bread and cake)</td>\n",
       "      <td>0.494489</td>\n",
       "      <td>0.719689</td>\n",
       "      <td>0.395721</td>\n",
       "      <td>0.800262</td>\n",
       "      <td>1.111956</td>\n",
       "      <td>0.039843</td>\n",
       "      <td>1.403396</td>\n",
       "    </tr>\n",
       "  </tbody>\n",
       "</table>\n",
       "<p>180 rows × 9 columns</p>\n",
       "</div>"
      ],
      "text/plain": [
       "                                     antecedents       consequents  \\\n",
       "177  (biscuits, vegetables, frozen foods, fruit)  (bread and cake)   \n",
       "139                 (biscuits, fruit, margarine)  (bread and cake)   \n",
       "132              (biscuits, fruit, frozen foods)  (bread and cake)   \n",
       "138           (biscuits, vegetables, milk-cream)  (bread and cake)   \n",
       "117             (baking needs, margarine, fruit)  (bread and cake)   \n",
       "..                                           ...               ...   \n",
       "154        (fruit, frozen foods, bread and cake)      (vegetables)   \n",
       "153   (vegetables, frozen foods, bread and cake)           (fruit)   \n",
       "91                  (breakfast food, vegetables)           (fruit)   \n",
       "173       (vegetables, frozen foods, milk-cream)           (fruit)   \n",
       "2                                    (margarine)  (bread and cake)   \n",
       "\n",
       "     antecedent support  consequent support   support  confidence      lift  \\\n",
       "177            0.224552            0.719689  0.200778    0.894129  1.242383   \n",
       "139            0.231900            0.719689  0.202723    0.874185  1.214670   \n",
       "132            0.282905            0.719689  0.247028    0.873186  1.213282   \n",
       "138            0.267128            0.719689  0.232332    0.869741  1.208496   \n",
       "117            0.244003            0.719689  0.212016    0.868911  1.207342   \n",
       "..                  ...                 ...       ...         ...       ...   \n",
       "154            0.334558            0.639939  0.268424    0.802326  1.253752   \n",
       "153            0.334558            0.640156  0.268424    0.802326  1.253329   \n",
       "91             0.275989            0.640156  0.221310    0.801879  1.252632   \n",
       "173            0.285066            0.640156  0.228442    0.801365  1.251828   \n",
       "2              0.494489            0.719689  0.395721    0.800262  1.111956   \n",
       "\n",
       "     leverage  conviction  \n",
       "177  0.039171    2.647667  \n",
       "139  0.035828    2.227955  \n",
       "132  0.043425    2.210406  \n",
       "138  0.040083    2.151954  \n",
       "117  0.036410    2.138320  \n",
       "..        ...         ...  \n",
       "154  0.054328    1.821483  \n",
       "153  0.054255    1.820389  \n",
       "91   0.044634    1.816290  \n",
       "173  0.045955    1.811583  \n",
       "2    0.039843    1.403396  \n",
       "\n",
       "[180 rows x 9 columns]"
      ]
     },
     "execution_count": 27,
     "metadata": {},
     "output_type": "execute_result"
    }
   ],
   "source": [
    "ap_rules.sort_values('confidence', ascending=False)"
   ]
  },
  {
   "cell_type": "markdown",
   "metadata": {
    "id": "n_yT94ofTaA8"
   },
   "source": [
    "Now describe the first three that you see above in your own words."
   ]
  },
  {
   "cell_type": "markdown",
   "metadata": {
    "id": "mHyYiku2TpdG"
   },
   "source": [
    "## 4 Boost fruit sales\n",
    "The supermarket manager wishes to boost the sale of fruit and therefore the manager needs to know other itemsets most likely be purchased with fruit to make promotion decisions. \n",
    "  - Using the same minimum support and minimum confidence value. \n",
    "  - List the top three itemsets to report to the supermarket manager. "
   ]
  },
  {
   "cell_type": "code",
   "execution_count": null,
   "metadata": {
    "id": "vXHZ-iF-MBqQ"
   },
   "outputs": [],
   "source": [
    "# choose all the rules wihch have \"fruit\" (not canned fruit) as the consquent\n",
    "fruit_rules = ap_rules[ap_rules.consequents == frozenset([?])]\n",
    "# now sort based on confidence and report the top 3\n",
    "fruit_rules.sort_values(?,\n",
    "                        ascending=False).head(3)"
   ]
  },
  {
   "cell_type": "markdown",
   "metadata": {
    "id": "UqG1xep9OuZ7"
   },
   "source": [
    "## 5 FP-Growth\n",
    "Repeat task 3, but using the FP Growth algorithm instead.  \n",
    "  - Compare the rules found. \n",
    "  - Are they consistent? "
   ]
  },
  {
   "cell_type": "markdown",
   "metadata": {
    "id": "vlhJDkJlPA5l"
   },
   "source": [
    "Import the `fpgrowth` function from our `mlxtend` module"
   ]
  },
  {
   "cell_type": "code",
   "execution_count": null,
   "metadata": {
    "id": "ksp_hczq0EgW"
   },
   "outputs": [],
   "source": [
    "from mlxtend.frequent_patterns import fpgrowth\n"
   ]
  },
  {
   "cell_type": "code",
   "execution_count": null,
   "metadata": {
    "id": "_RrIK42Ve_Xv"
   },
   "outputs": [],
   "source": [
    "fp_itemsets = fpgrowth(df,\n",
    "                       min_support=?,\n",
    "                       use_colnames=True)"
   ]
  },
  {
   "cell_type": "code",
   "execution_count": null,
   "metadata": {
    "id": "942LR6AhgYOt"
   },
   "outputs": [],
   "source": [
    "fp_rules = association_rules(fp_itemsets, \n",
    "                             metric='confidence', \n",
    "                             min_threshold=?)"
   ]
  },
  {
   "cell_type": "markdown",
   "metadata": {
    "id": "FDcUV0QhPMdA"
   },
   "source": [
    "There are a lot of rules, lets compare just the first 10 most confident rules."
   ]
  },
  {
   "cell_type": "code",
   "execution_count": null,
   "metadata": {
    "id": "eSeodYelhckj"
   },
   "outputs": [],
   "source": [
    "# Select the top 10 confident rules from each of our algorithms\n",
    "fp_top_10 = fp_rules.sort_values('confidence', ascending=False).head(10)\n",
    "ap_top_10 = ap_rules.sort_values('confidence', ascending=False).head(10)"
   ]
  },
  {
   "cell_type": "code",
   "execution_count": null,
   "metadata": {
    "id": "McBW4hh_hfMB"
   },
   "outputs": [],
   "source": [
    "print(\"FP-Growth rules\")\n",
    "fp_top_10"
   ]
  },
  {
   "cell_type": "code",
   "execution_count": null,
   "metadata": {
    "id": "YVPqi8T6RqjT"
   },
   "outputs": [],
   "source": [
    "print(\"Apriori rules\")\n",
    "ap_top_10"
   ]
  },
  {
   "cell_type": "markdown",
   "metadata": {
    "id": "xycAJ2gKR0GJ"
   },
   "source": [
    "Do the above tables agree?"
   ]
  }
 ],
 "metadata": {
  "colab": {
   "collapsed_sections": [],
   "name": "PracD_AssociationPatternMining.ipynb",
   "provenance": [],
   "toc_visible": true
  },
  "kernelspec": {
   "display_name": "Python 3",
   "language": "python",
   "name": "python3"
  },
  "language_info": {
   "codemirror_mode": {
    "name": "ipython",
    "version": 3
   },
   "file_extension": ".py",
   "mimetype": "text/x-python",
   "name": "python",
   "nbconvert_exporter": "python",
   "pygments_lexer": "ipython3",
   "version": "3.8.5"
  }
 },
 "nbformat": 4,
 "nbformat_minor": 1
}
